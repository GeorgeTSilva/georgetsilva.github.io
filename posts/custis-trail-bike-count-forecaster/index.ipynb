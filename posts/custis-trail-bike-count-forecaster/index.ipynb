{
 "cells": [
  {
   "cell_type": "markdown",
   "metadata": {},
   "source": [
    "In this article, I will step through the process of forecasting the number of bicycles traveling on the Custis trail daily by using sophisticated machine learning techniques.  Originally, I was planning on using data from the Bikeometer in Rosslyn, but it has been offline since March 25th. <!-- TEASER_END --> Thankfully, there are several other counters on this trail as you can see from my earlier article [mapping Arlington’s bike and pedestrian counters](https://georgetsilva.github.io/posts/mapping-points-with-folium/).\n",
    "\n",
    "The longest running and probably most reliable trail counter in Arlington is the Custis Rosslyn EcoMulti installed in October of 2009. It is located on the Custis trail near where westbound lane of Lee Highway crosses over I-66. Given its long time series of data and reliability, it is probably the best source of data from this project.\n",
    "\n",
    "My first step in this project was to launch Anaconda and start this Python 3.5 Jupyter Notebook. Then I import the modules I plan to use for this project. They are as follows:"
   ]
  },
  {
   "cell_type": "code",
   "execution_count": 1,
   "metadata": {
    "collapsed": true
   },
   "outputs": [],
   "source": [
    "import pandas as pd\n",
    "import requests\n",
    "from xml.etree import ElementTree\n",
    "import numpy as np"
   ]
  },
  {
   "cell_type": "markdown",
   "metadata": {},
   "source": [
    "Using the requests module to retrieve data from Bike Arlington Web Services, I pulled all the daily counter data for bicycles crossing the Custis Rosslyn counter (counterid=4) for the October 1, 2009 to May 15, 2017 time period.\n"
   ]
  },
  {
   "cell_type": "code",
   "execution_count": 2,
   "metadata": {
    "collapsed": true
   },
   "outputs": [],
   "source": [
    "url = \"http://webservices.commuterpage.com/counters.cfc?wsdl&method=GetCountInDateRange&counterid=4&startDate=10/01/2009&endDate=05/15/2017&direction=&mode=B&interval=d\"\n",
    "xmlfile = open('xml_bikeometer.xml', 'w')\n",
    "xmldata = requests.get(url)\n",
    "xmlfile.write(xmldata.text)\n",
    "xmlfile.close()\n",
    "\n",
    "xml_data = 'xml_bikeometer.xml'"
   ]
  },
  {
   "cell_type": "markdown",
   "metadata": {},
   "source": [
    "The code below parses the xml data and stores it in a Pandas dataframe, which is kind of like an Excel table."
   ]
  },
  {
   "cell_type": "code",
   "execution_count": 3,
   "metadata": {
    "collapsed": false
   },
   "outputs": [
    {
     "data": {
      "text/html": [
       "<div>\n",
       "<table border=\"1\" class=\"dataframe\">\n",
       "  <thead>\n",
       "    <tr style=\"text-align: right;\">\n",
       "      <th></th>\n",
       "      <th>count</th>\n",
       "    </tr>\n",
       "    <tr>\n",
       "      <th>date</th>\n",
       "      <th></th>\n",
       "    </tr>\n",
       "  </thead>\n",
       "  <tbody>\n",
       "    <tr>\n",
       "      <th>2017-05-11</th>\n",
       "      <td>513</td>\n",
       "    </tr>\n",
       "    <tr>\n",
       "      <th>2017-05-12</th>\n",
       "      <td>706</td>\n",
       "    </tr>\n",
       "    <tr>\n",
       "      <th>2017-05-13</th>\n",
       "      <td>434</td>\n",
       "    </tr>\n",
       "    <tr>\n",
       "      <th>2017-05-14</th>\n",
       "      <td>1522</td>\n",
       "    </tr>\n",
       "    <tr>\n",
       "      <th>2017-05-15</th>\n",
       "      <td>1978</td>\n",
       "    </tr>\n",
       "  </tbody>\n",
       "</table>\n",
       "</div>"
      ],
      "text/plain": [
       "            count\n",
       "date             \n",
       "2017-05-11    513\n",
       "2017-05-12    706\n",
       "2017-05-13    434\n",
       "2017-05-14   1522\n",
       "2017-05-15   1978"
      ]
     },
     "execution_count": 3,
     "metadata": {},
     "output_type": "execute_result"
    }
   ],
   "source": [
    "document = ElementTree.parse(xml_data)\n",
    "date = []\n",
    "count = []\n",
    "direction = []\n",
    "for day in document.findall('count'):\n",
    "    date.append(day.attrib['date'])\n",
    "    count.append(day.attrib['count'])\n",
    "    direction.append(day.attrib['direction'])\n",
    "dfbikes = pd.DataFrame({'date' : date, 'count': count, 'direction': direction}, dtype = int)\n",
    "dfbikes['date'] = pd.to_datetime(dfbikes.date)\n",
    "dfbikes = dfbikes.groupby('date').sum()\n",
    "dfbikes.tail()"
   ]
  },
  {
   "cell_type": "markdown",
   "metadata": {
    "collapsed": false
   },
   "source": [
    "Then I loaded in weather data that I downloaded from the NOAA National Centers for Environmental Information.  This U.S. Local Climatological Data for the National Airport weather station ended up being somewhat problematic.  The data structure was a bit difficult to work with and had large blocks of missing data for some weather measurements, such as relative humidity.  Given these issues, I decided to only extract the snow data and instead get the rest of the historical weather data from Weather Underground."
   ]
  },
  {
   "cell_type": "code",
   "execution_count": 5,
   "metadata": {
    "collapsed": false
   },
   "outputs": [
    {
     "name": "stderr",
     "output_type": "stream",
     "text": [
      "C:\\Users\\George\\Anaconda3\\lib\\site-packages\\IPython\\core\\interactiveshell.py:2717: DtypeWarning: Columns (40) have mixed types. Specify dtype option on import or set low_memory=False.\n",
      "  interactivity=interactivity, compiler=compiler, result=result)\n",
      "C:\\Users\\George\\Anaconda3\\lib\\site-packages\\ipykernel\\__main__.py:5: SettingWithCopyWarning: \n",
      "A value is trying to be set on a copy of a slice from a DataFrame.\n",
      "Try using .loc[row_indexer,col_indexer] = value instead\n",
      "\n",
      "See the caveats in the documentation: http://pandas.pydata.org/pandas-docs/stable/indexing.html#indexing-view-versus-copy\n"
     ]
    },
    {
     "data": {
      "text/html": [
       "<div>\n",
       "<table border=\"1\" class=\"dataframe\">\n",
       "  <thead>\n",
       "    <tr style=\"text-align: right;\">\n",
       "      <th></th>\n",
       "      <th>DAILYSnowfall</th>\n",
       "      <th>DAILYSnowDepth</th>\n",
       "    </tr>\n",
       "    <tr>\n",
       "      <th>date</th>\n",
       "      <th></th>\n",
       "      <th></th>\n",
       "    </tr>\n",
       "  </thead>\n",
       "  <tbody>\n",
       "    <tr>\n",
       "      <th>2017-05-09</th>\n",
       "      <td>0.0</td>\n",
       "      <td>0</td>\n",
       "    </tr>\n",
       "    <tr>\n",
       "      <th>2017-05-10</th>\n",
       "      <td>0.0</td>\n",
       "      <td>0</td>\n",
       "    </tr>\n",
       "    <tr>\n",
       "      <th>2017-05-11</th>\n",
       "      <td>0.0</td>\n",
       "      <td>0</td>\n",
       "    </tr>\n",
       "    <tr>\n",
       "      <th>2017-05-12</th>\n",
       "      <td>0.0</td>\n",
       "      <td>0</td>\n",
       "    </tr>\n",
       "    <tr>\n",
       "      <th>2017-05-13</th>\n",
       "      <td>0.0</td>\n",
       "      <td>0</td>\n",
       "    </tr>\n",
       "  </tbody>\n",
       "</table>\n",
       "</div>"
      ],
      "text/plain": [
       "           DAILYSnowfall DAILYSnowDepth\n",
       "date                                   \n",
       "2017-05-09           0.0              0\n",
       "2017-05-10           0.0              0\n",
       "2017-05-11           0.0              0\n",
       "2017-05-12           0.0              0\n",
       "2017-05-13           0.0              0"
      ]
     },
     "execution_count": 5,
     "metadata": {},
     "output_type": "execute_result"
    }
   ],
   "source": [
    "weather = pd.read_csv('weather09t17.csv', usecols=['REPORTTPYE','DATE', 'DAILYMaximumDryBulbTemp','DAILYAverageRelativeHumidity',\n",
    "                                        'DAILYAverageWindSpeed', 'DAILYPrecip', 'DAILYSnowfall', 'DAILYSnowDepth'])\n",
    "\n",
    "daily_weather = weather.loc[weather['REPORTTPYE'] == 'SOD', :]\n",
    "daily_weather['date'] = pd.to_datetime(daily_weather.DATE, format='%Y-%m-%d').dt.date\n",
    "daily_weather = daily_weather.set_index('date')\n",
    "snow_weather = daily_weather[['DAILYSnowfall', 'DAILYSnowDepth']]\n",
    "snow_weather.tail()"
   ]
  },
  {
   "cell_type": "code",
   "execution_count": 6,
   "metadata": {
    "collapsed": false
   },
   "outputs": [
    {
     "data": {
      "text/html": [
       "<div>\n",
       "<table border=\"1\" class=\"dataframe\">\n",
       "  <thead>\n",
       "    <tr style=\"text-align: right;\">\n",
       "      <th></th>\n",
       "      <th>DAILYSnowfall</th>\n",
       "      <th>DAILYSnowDepth</th>\n",
       "    </tr>\n",
       "  </thead>\n",
       "  <tbody>\n",
       "    <tr>\n",
       "      <th>2017-05-11</th>\n",
       "      <td>0.0</td>\n",
       "      <td>0</td>\n",
       "    </tr>\n",
       "    <tr>\n",
       "      <th>2017-05-12</th>\n",
       "      <td>0.0</td>\n",
       "      <td>0</td>\n",
       "    </tr>\n",
       "    <tr>\n",
       "      <th>2017-05-13</th>\n",
       "      <td>0.0</td>\n",
       "      <td>0</td>\n",
       "    </tr>\n",
       "    <tr>\n",
       "      <th>2017-05-14</th>\n",
       "      <td>0</td>\n",
       "      <td>0</td>\n",
       "    </tr>\n",
       "    <tr>\n",
       "      <th>2017-05-15</th>\n",
       "      <td>0</td>\n",
       "      <td>0</td>\n",
       "    </tr>\n",
       "  </tbody>\n",
       "</table>\n",
       "</div>"
      ],
      "text/plain": [
       "           DAILYSnowfall DAILYSnowDepth\n",
       "2017-05-11           0.0              0\n",
       "2017-05-12           0.0              0\n",
       "2017-05-13           0.0              0\n",
       "2017-05-14             0              0\n",
       "2017-05-15             0              0"
      ]
     },
     "execution_count": 6,
     "metadata": {},
     "output_type": "execute_result"
    }
   ],
   "source": [
    "swcolumns = snow_weather.columns\n",
    "swindex = pd.date_range('2017-05-14', periods = 2).date\n",
    "sw_append = pd.DataFrame([[0.0, 0], [0.0, 0]], columns=swcolumns, index=swindex)\n",
    "snow_weather = snow_weather.append(sw_append)\n",
    "snow_weather.tail()"
   ]
  },
  {
   "cell_type": "markdown",
   "metadata": {},
   "source": [
    "The weather_kdca0917.csv file contains the 2009 to May 15, 2017 Arlington, Virginia historical weather data from Weather Underground. The available weather fields are listed below."
   ]
  },
  {
   "cell_type": "code",
   "execution_count": 7,
   "metadata": {
    "collapsed": false
   },
   "outputs": [
    {
     "data": {
      "text/plain": [
       "CloudCover                     int64\n",
       "Max Dew PointF                 int64\n",
       "Max Gust SpeedMPH            float64\n",
       "Max Humidity                   int64\n",
       "Max Sea Level PressureIn     float64\n",
       "Max TemperatureF               int64\n",
       "Max VisibilityMiles            int64\n",
       "Max Wind SpeedMPH              int64\n",
       "Mean Humidity                  int64\n",
       "Mean Sea Level PressureIn    float64\n",
       "Mean TemperatureF              int64\n",
       "Mean VisibilityMiles           int64\n",
       "Mean Wind SpeedMPH             int64\n",
       "MeanDew PointF                 int64\n",
       "Min DewpointF                  int64\n",
       "Min Humidity                   int64\n",
       "Min Sea Level PressureIn     float64\n",
       "Min TemperatureF               int64\n",
       "Min VisibilityMiles            int64\n",
       "PrecipitationIn              float64\n",
       "WindDirDegrees                 int64\n",
       "Snow                           int64\n",
       "Fog                            int64\n",
       "dtype: object"
      ]
     },
     "execution_count": 7,
     "metadata": {},
     "output_type": "execute_result"
    }
   ],
   "source": [
    "df_wu = pd.read_csv('weather_kdca0917.csv', index_col='date', parse_dates=True)\n",
    "df_wu.dtypes"
   ]
  },
  {
   "cell_type": "markdown",
   "metadata": {},
   "source": [
    "The dfsunrise data is sunrise and sunset times for Arlington, Virginia.  It obtained from the [U.S. Naval Observatory](http://www.usno.navy.mil/USNO/).\n"
   ]
  },
  {
   "cell_type": "code",
   "execution_count": 8,
   "metadata": {
    "collapsed": false
   },
   "outputs": [],
   "source": [
    "dfsunrise = pd.read_pickle('sunrise120120102017.pkl')"
   ]
  },
  {
   "cell_type": "markdown",
   "metadata": {},
   "source": [
    "I then concatenated the four previous tables by date."
   ]
  },
  {
   "cell_type": "code",
   "execution_count": 9,
   "metadata": {
    "collapsed": false
   },
   "outputs": [
    {
     "data": {
      "text/html": [
       "<div>\n",
       "<table border=\"1\" class=\"dataframe\">\n",
       "  <thead>\n",
       "    <tr style=\"text-align: right;\">\n",
       "      <th></th>\n",
       "      <th>count</th>\n",
       "      <th>DAILYSnowfall</th>\n",
       "      <th>DAILYSnowDepth</th>\n",
       "      <th>CloudCover</th>\n",
       "      <th>Max Dew PointF</th>\n",
       "      <th>Max Gust SpeedMPH</th>\n",
       "      <th>Max Humidity</th>\n",
       "      <th>Max Sea Level PressureIn</th>\n",
       "      <th>Max TemperatureF</th>\n",
       "      <th>Max VisibilityMiles</th>\n",
       "      <th>...</th>\n",
       "      <th>WindDirDegrees</th>\n",
       "      <th>Snow</th>\n",
       "      <th>Fog</th>\n",
       "      <th>month</th>\n",
       "      <th>day</th>\n",
       "      <th>year</th>\n",
       "      <th>sunrise</th>\n",
       "      <th>sunset</th>\n",
       "      <th>sunrise_int</th>\n",
       "      <th>sunset_int</th>\n",
       "    </tr>\n",
       "  </thead>\n",
       "  <tbody>\n",
       "    <tr>\n",
       "      <th>2009-01-01</th>\n",
       "      <td>NaN</td>\n",
       "      <td>NaN</td>\n",
       "      <td>NaN</td>\n",
       "      <td>2.0</td>\n",
       "      <td>14.0</td>\n",
       "      <td>31.0</td>\n",
       "      <td>53.0</td>\n",
       "      <td>30.42</td>\n",
       "      <td>34.0</td>\n",
       "      <td>10.0</td>\n",
       "      <td>...</td>\n",
       "      <td>284.0</td>\n",
       "      <td>0.0</td>\n",
       "      <td>0.0</td>\n",
       "      <td>NaN</td>\n",
       "      <td>NaN</td>\n",
       "      <td>NaN</td>\n",
       "      <td>NaN</td>\n",
       "      <td>NaN</td>\n",
       "      <td>NaN</td>\n",
       "      <td>NaN</td>\n",
       "    </tr>\n",
       "    <tr>\n",
       "      <th>2009-01-02</th>\n",
       "      <td>NaN</td>\n",
       "      <td>NaN</td>\n",
       "      <td>NaN</td>\n",
       "      <td>6.0</td>\n",
       "      <td>29.0</td>\n",
       "      <td>24.0</td>\n",
       "      <td>70.0</td>\n",
       "      <td>30.18</td>\n",
       "      <td>43.0</td>\n",
       "      <td>10.0</td>\n",
       "      <td>...</td>\n",
       "      <td>198.0</td>\n",
       "      <td>0.0</td>\n",
       "      <td>0.0</td>\n",
       "      <td>NaN</td>\n",
       "      <td>NaN</td>\n",
       "      <td>NaN</td>\n",
       "      <td>NaN</td>\n",
       "      <td>NaN</td>\n",
       "      <td>NaN</td>\n",
       "      <td>NaN</td>\n",
       "    </tr>\n",
       "    <tr>\n",
       "      <th>2009-01-03</th>\n",
       "      <td>NaN</td>\n",
       "      <td>NaN</td>\n",
       "      <td>NaN</td>\n",
       "      <td>1.0</td>\n",
       "      <td>29.0</td>\n",
       "      <td>21.0</td>\n",
       "      <td>75.0</td>\n",
       "      <td>30.20</td>\n",
       "      <td>47.0</td>\n",
       "      <td>10.0</td>\n",
       "      <td>...</td>\n",
       "      <td>349.0</td>\n",
       "      <td>0.0</td>\n",
       "      <td>0.0</td>\n",
       "      <td>NaN</td>\n",
       "      <td>NaN</td>\n",
       "      <td>NaN</td>\n",
       "      <td>NaN</td>\n",
       "      <td>NaN</td>\n",
       "      <td>NaN</td>\n",
       "      <td>NaN</td>\n",
       "    </tr>\n",
       "    <tr>\n",
       "      <th>2009-01-04</th>\n",
       "      <td>NaN</td>\n",
       "      <td>NaN</td>\n",
       "      <td>NaN</td>\n",
       "      <td>6.0</td>\n",
       "      <td>31.0</td>\n",
       "      <td>12.0</td>\n",
       "      <td>78.0</td>\n",
       "      <td>30.22</td>\n",
       "      <td>45.0</td>\n",
       "      <td>10.0</td>\n",
       "      <td>...</td>\n",
       "      <td>182.0</td>\n",
       "      <td>0.0</td>\n",
       "      <td>0.0</td>\n",
       "      <td>NaN</td>\n",
       "      <td>NaN</td>\n",
       "      <td>NaN</td>\n",
       "      <td>NaN</td>\n",
       "      <td>NaN</td>\n",
       "      <td>NaN</td>\n",
       "      <td>NaN</td>\n",
       "    </tr>\n",
       "    <tr>\n",
       "      <th>2009-01-05</th>\n",
       "      <td>NaN</td>\n",
       "      <td>NaN</td>\n",
       "      <td>NaN</td>\n",
       "      <td>8.0</td>\n",
       "      <td>37.0</td>\n",
       "      <td>22.0</td>\n",
       "      <td>92.0</td>\n",
       "      <td>30.08</td>\n",
       "      <td>51.0</td>\n",
       "      <td>10.0</td>\n",
       "      <td>...</td>\n",
       "      <td>341.0</td>\n",
       "      <td>0.0</td>\n",
       "      <td>0.0</td>\n",
       "      <td>NaN</td>\n",
       "      <td>NaN</td>\n",
       "      <td>NaN</td>\n",
       "      <td>NaN</td>\n",
       "      <td>NaN</td>\n",
       "      <td>NaN</td>\n",
       "      <td>NaN</td>\n",
       "    </tr>\n",
       "  </tbody>\n",
       "</table>\n",
       "<p>5 rows × 33 columns</p>\n",
       "</div>"
      ],
      "text/plain": [
       "            count DAILYSnowfall DAILYSnowDepth  CloudCover  Max Dew PointF  \\\n",
       "2009-01-01    NaN           NaN            NaN         2.0            14.0   \n",
       "2009-01-02    NaN           NaN            NaN         6.0            29.0   \n",
       "2009-01-03    NaN           NaN            NaN         1.0            29.0   \n",
       "2009-01-04    NaN           NaN            NaN         6.0            31.0   \n",
       "2009-01-05    NaN           NaN            NaN         8.0            37.0   \n",
       "\n",
       "            Max Gust SpeedMPH  Max Humidity  Max Sea Level PressureIn  \\\n",
       "2009-01-01               31.0          53.0                     30.42   \n",
       "2009-01-02               24.0          70.0                     30.18   \n",
       "2009-01-03               21.0          75.0                     30.20   \n",
       "2009-01-04               12.0          78.0                     30.22   \n",
       "2009-01-05               22.0          92.0                     30.08   \n",
       "\n",
       "            Max TemperatureF  Max VisibilityMiles     ...      WindDirDegrees  \\\n",
       "2009-01-01              34.0                 10.0     ...               284.0   \n",
       "2009-01-02              43.0                 10.0     ...               198.0   \n",
       "2009-01-03              47.0                 10.0     ...               349.0   \n",
       "2009-01-04              45.0                 10.0     ...               182.0   \n",
       "2009-01-05              51.0                 10.0     ...               341.0   \n",
       "\n",
       "            Snow  Fog  month  day  year  sunrise  sunset  sunrise_int  \\\n",
       "2009-01-01   0.0  0.0    NaN  NaN   NaN      NaN     NaN          NaN   \n",
       "2009-01-02   0.0  0.0    NaN  NaN   NaN      NaN     NaN          NaN   \n",
       "2009-01-03   0.0  0.0    NaN  NaN   NaN      NaN     NaN          NaN   \n",
       "2009-01-04   0.0  0.0    NaN  NaN   NaN      NaN     NaN          NaN   \n",
       "2009-01-05   0.0  0.0    NaN  NaN   NaN      NaN     NaN          NaN   \n",
       "\n",
       "            sunset_int  \n",
       "2009-01-01         NaN  \n",
       "2009-01-02         NaN  \n",
       "2009-01-03         NaN  \n",
       "2009-01-04         NaN  \n",
       "2009-01-05         NaN  \n",
       "\n",
       "[5 rows x 33 columns]"
      ]
     },
     "execution_count": 9,
     "metadata": {},
     "output_type": "execute_result"
    }
   ],
   "source": [
    "bikedataframe = pd.concat([dfbikes, snow_weather, df_wu, dfsunrise], axis=1)\n",
    "\n",
    "#bikedataframe = bikedataframe.drop(['DATE', 'REPORTTPYE'], axis=1)\n",
    "bikedataframe.head()"
   ]
  },
  {
   "cell_type": "markdown",
   "metadata": {},
   "source": [
    "Then I converted the data to floating point numbers in preparation for the machine learning modeling. I also calculated weekday versus weekends, converted the sunset and sunrise times to fractional hours, and then calculated the number of hours of daylight time. The year variable was also adjusted to be the number of years since 2000 for scaling purposes."
   ]
  },
  {
   "cell_type": "code",
   "execution_count": 10,
   "metadata": {
    "collapsed": false
   },
   "outputs": [
    {
     "data": {
      "text/html": [
       "<div>\n",
       "<table border=\"1\" class=\"dataframe\">\n",
       "  <thead>\n",
       "    <tr style=\"text-align: right;\">\n",
       "      <th></th>\n",
       "      <th>count</th>\n",
       "      <th>DAILYSnowfall</th>\n",
       "      <th>DAILYSnowDepth</th>\n",
       "      <th>CloudCover</th>\n",
       "      <th>Max Dew PointF</th>\n",
       "      <th>Max Gust SpeedMPH</th>\n",
       "      <th>Max Humidity</th>\n",
       "      <th>Max Sea Level PressureIn</th>\n",
       "      <th>Max TemperatureF</th>\n",
       "      <th>Max VisibilityMiles</th>\n",
       "      <th>...</th>\n",
       "      <th>month</th>\n",
       "      <th>day</th>\n",
       "      <th>year</th>\n",
       "      <th>sunrise_int</th>\n",
       "      <th>sunset_int</th>\n",
       "      <th>dayofweek</th>\n",
       "      <th>weekday</th>\n",
       "      <th>sunsethour</th>\n",
       "      <th>sunrisehour</th>\n",
       "      <th>day_hrs</th>\n",
       "    </tr>\n",
       "  </thead>\n",
       "  <tbody>\n",
       "    <tr>\n",
       "      <th>2017-12-22</th>\n",
       "      <td>NaN</td>\n",
       "      <td>NaN</td>\n",
       "      <td>NaN</td>\n",
       "      <td>NaN</td>\n",
       "      <td>NaN</td>\n",
       "      <td>NaN</td>\n",
       "      <td>NaN</td>\n",
       "      <td>NaN</td>\n",
       "      <td>NaN</td>\n",
       "      <td>NaN</td>\n",
       "      <td>...</td>\n",
       "      <td>12.0</td>\n",
       "      <td>22.0</td>\n",
       "      <td>17.0</td>\n",
       "      <td>724.0</td>\n",
       "      <td>1651.0</td>\n",
       "      <td>4</td>\n",
       "      <td>1</td>\n",
       "      <td>16.850000</td>\n",
       "      <td>7.400000</td>\n",
       "      <td>9.450000</td>\n",
       "    </tr>\n",
       "    <tr>\n",
       "      <th>2017-12-23</th>\n",
       "      <td>NaN</td>\n",
       "      <td>NaN</td>\n",
       "      <td>NaN</td>\n",
       "      <td>NaN</td>\n",
       "      <td>NaN</td>\n",
       "      <td>NaN</td>\n",
       "      <td>NaN</td>\n",
       "      <td>NaN</td>\n",
       "      <td>NaN</td>\n",
       "      <td>NaN</td>\n",
       "      <td>...</td>\n",
       "      <td>12.0</td>\n",
       "      <td>23.0</td>\n",
       "      <td>17.0</td>\n",
       "      <td>724.0</td>\n",
       "      <td>1651.0</td>\n",
       "      <td>5</td>\n",
       "      <td>0</td>\n",
       "      <td>16.850000</td>\n",
       "      <td>7.400000</td>\n",
       "      <td>9.450000</td>\n",
       "    </tr>\n",
       "    <tr>\n",
       "      <th>2017-12-24</th>\n",
       "      <td>NaN</td>\n",
       "      <td>NaN</td>\n",
       "      <td>NaN</td>\n",
       "      <td>NaN</td>\n",
       "      <td>NaN</td>\n",
       "      <td>NaN</td>\n",
       "      <td>NaN</td>\n",
       "      <td>NaN</td>\n",
       "      <td>NaN</td>\n",
       "      <td>NaN</td>\n",
       "      <td>...</td>\n",
       "      <td>12.0</td>\n",
       "      <td>24.0</td>\n",
       "      <td>17.0</td>\n",
       "      <td>725.0</td>\n",
       "      <td>1652.0</td>\n",
       "      <td>6</td>\n",
       "      <td>0</td>\n",
       "      <td>16.866667</td>\n",
       "      <td>7.416667</td>\n",
       "      <td>9.450000</td>\n",
       "    </tr>\n",
       "    <tr>\n",
       "      <th>2017-12-25</th>\n",
       "      <td>NaN</td>\n",
       "      <td>NaN</td>\n",
       "      <td>NaN</td>\n",
       "      <td>NaN</td>\n",
       "      <td>NaN</td>\n",
       "      <td>NaN</td>\n",
       "      <td>NaN</td>\n",
       "      <td>NaN</td>\n",
       "      <td>NaN</td>\n",
       "      <td>NaN</td>\n",
       "      <td>...</td>\n",
       "      <td>12.0</td>\n",
       "      <td>25.0</td>\n",
       "      <td>17.0</td>\n",
       "      <td>725.0</td>\n",
       "      <td>1652.0</td>\n",
       "      <td>0</td>\n",
       "      <td>1</td>\n",
       "      <td>16.866667</td>\n",
       "      <td>7.416667</td>\n",
       "      <td>9.450000</td>\n",
       "    </tr>\n",
       "    <tr>\n",
       "      <th>2017-12-26</th>\n",
       "      <td>NaN</td>\n",
       "      <td>NaN</td>\n",
       "      <td>NaN</td>\n",
       "      <td>NaN</td>\n",
       "      <td>NaN</td>\n",
       "      <td>NaN</td>\n",
       "      <td>NaN</td>\n",
       "      <td>NaN</td>\n",
       "      <td>NaN</td>\n",
       "      <td>NaN</td>\n",
       "      <td>...</td>\n",
       "      <td>12.0</td>\n",
       "      <td>26.0</td>\n",
       "      <td>17.0</td>\n",
       "      <td>726.0</td>\n",
       "      <td>1653.0</td>\n",
       "      <td>1</td>\n",
       "      <td>1</td>\n",
       "      <td>16.883333</td>\n",
       "      <td>7.433333</td>\n",
       "      <td>9.450000</td>\n",
       "    </tr>\n",
       "    <tr>\n",
       "      <th>2017-12-27</th>\n",
       "      <td>NaN</td>\n",
       "      <td>NaN</td>\n",
       "      <td>NaN</td>\n",
       "      <td>NaN</td>\n",
       "      <td>NaN</td>\n",
       "      <td>NaN</td>\n",
       "      <td>NaN</td>\n",
       "      <td>NaN</td>\n",
       "      <td>NaN</td>\n",
       "      <td>NaN</td>\n",
       "      <td>...</td>\n",
       "      <td>12.0</td>\n",
       "      <td>27.0</td>\n",
       "      <td>17.0</td>\n",
       "      <td>726.0</td>\n",
       "      <td>1654.0</td>\n",
       "      <td>2</td>\n",
       "      <td>1</td>\n",
       "      <td>16.900000</td>\n",
       "      <td>7.433333</td>\n",
       "      <td>9.466667</td>\n",
       "    </tr>\n",
       "    <tr>\n",
       "      <th>2017-12-28</th>\n",
       "      <td>NaN</td>\n",
       "      <td>NaN</td>\n",
       "      <td>NaN</td>\n",
       "      <td>NaN</td>\n",
       "      <td>NaN</td>\n",
       "      <td>NaN</td>\n",
       "      <td>NaN</td>\n",
       "      <td>NaN</td>\n",
       "      <td>NaN</td>\n",
       "      <td>NaN</td>\n",
       "      <td>...</td>\n",
       "      <td>12.0</td>\n",
       "      <td>28.0</td>\n",
       "      <td>17.0</td>\n",
       "      <td>726.0</td>\n",
       "      <td>1654.0</td>\n",
       "      <td>3</td>\n",
       "      <td>1</td>\n",
       "      <td>16.900000</td>\n",
       "      <td>7.433333</td>\n",
       "      <td>9.466667</td>\n",
       "    </tr>\n",
       "    <tr>\n",
       "      <th>2017-12-29</th>\n",
       "      <td>NaN</td>\n",
       "      <td>NaN</td>\n",
       "      <td>NaN</td>\n",
       "      <td>NaN</td>\n",
       "      <td>NaN</td>\n",
       "      <td>NaN</td>\n",
       "      <td>NaN</td>\n",
       "      <td>NaN</td>\n",
       "      <td>NaN</td>\n",
       "      <td>NaN</td>\n",
       "      <td>...</td>\n",
       "      <td>12.0</td>\n",
       "      <td>29.0</td>\n",
       "      <td>17.0</td>\n",
       "      <td>726.0</td>\n",
       "      <td>1655.0</td>\n",
       "      <td>4</td>\n",
       "      <td>1</td>\n",
       "      <td>16.916667</td>\n",
       "      <td>7.433333</td>\n",
       "      <td>9.483333</td>\n",
       "    </tr>\n",
       "    <tr>\n",
       "      <th>2017-12-30</th>\n",
       "      <td>NaN</td>\n",
       "      <td>NaN</td>\n",
       "      <td>NaN</td>\n",
       "      <td>NaN</td>\n",
       "      <td>NaN</td>\n",
       "      <td>NaN</td>\n",
       "      <td>NaN</td>\n",
       "      <td>NaN</td>\n",
       "      <td>NaN</td>\n",
       "      <td>NaN</td>\n",
       "      <td>...</td>\n",
       "      <td>12.0</td>\n",
       "      <td>30.0</td>\n",
       "      <td>17.0</td>\n",
       "      <td>727.0</td>\n",
       "      <td>1656.0</td>\n",
       "      <td>5</td>\n",
       "      <td>0</td>\n",
       "      <td>16.933333</td>\n",
       "      <td>7.450000</td>\n",
       "      <td>9.483333</td>\n",
       "    </tr>\n",
       "    <tr>\n",
       "      <th>2017-12-31</th>\n",
       "      <td>NaN</td>\n",
       "      <td>NaN</td>\n",
       "      <td>NaN</td>\n",
       "      <td>NaN</td>\n",
       "      <td>NaN</td>\n",
       "      <td>NaN</td>\n",
       "      <td>NaN</td>\n",
       "      <td>NaN</td>\n",
       "      <td>NaN</td>\n",
       "      <td>NaN</td>\n",
       "      <td>...</td>\n",
       "      <td>12.0</td>\n",
       "      <td>31.0</td>\n",
       "      <td>17.0</td>\n",
       "      <td>727.0</td>\n",
       "      <td>1657.0</td>\n",
       "      <td>6</td>\n",
       "      <td>0</td>\n",
       "      <td>16.950000</td>\n",
       "      <td>7.450000</td>\n",
       "      <td>9.500000</td>\n",
       "    </tr>\n",
       "  </tbody>\n",
       "</table>\n",
       "<p>10 rows × 36 columns</p>\n",
       "</div>"
      ],
      "text/plain": [
       "            count  DAILYSnowfall  DAILYSnowDepth  CloudCover  Max Dew PointF  \\\n",
       "2017-12-22    NaN            NaN             NaN         NaN             NaN   \n",
       "2017-12-23    NaN            NaN             NaN         NaN             NaN   \n",
       "2017-12-24    NaN            NaN             NaN         NaN             NaN   \n",
       "2017-12-25    NaN            NaN             NaN         NaN             NaN   \n",
       "2017-12-26    NaN            NaN             NaN         NaN             NaN   \n",
       "2017-12-27    NaN            NaN             NaN         NaN             NaN   \n",
       "2017-12-28    NaN            NaN             NaN         NaN             NaN   \n",
       "2017-12-29    NaN            NaN             NaN         NaN             NaN   \n",
       "2017-12-30    NaN            NaN             NaN         NaN             NaN   \n",
       "2017-12-31    NaN            NaN             NaN         NaN             NaN   \n",
       "\n",
       "            Max Gust SpeedMPH  Max Humidity  Max Sea Level PressureIn  \\\n",
       "2017-12-22                NaN           NaN                       NaN   \n",
       "2017-12-23                NaN           NaN                       NaN   \n",
       "2017-12-24                NaN           NaN                       NaN   \n",
       "2017-12-25                NaN           NaN                       NaN   \n",
       "2017-12-26                NaN           NaN                       NaN   \n",
       "2017-12-27                NaN           NaN                       NaN   \n",
       "2017-12-28                NaN           NaN                       NaN   \n",
       "2017-12-29                NaN           NaN                       NaN   \n",
       "2017-12-30                NaN           NaN                       NaN   \n",
       "2017-12-31                NaN           NaN                       NaN   \n",
       "\n",
       "            Max TemperatureF  Max VisibilityMiles    ...     month   day  \\\n",
       "2017-12-22               NaN                  NaN    ...      12.0  22.0   \n",
       "2017-12-23               NaN                  NaN    ...      12.0  23.0   \n",
       "2017-12-24               NaN                  NaN    ...      12.0  24.0   \n",
       "2017-12-25               NaN                  NaN    ...      12.0  25.0   \n",
       "2017-12-26               NaN                  NaN    ...      12.0  26.0   \n",
       "2017-12-27               NaN                  NaN    ...      12.0  27.0   \n",
       "2017-12-28               NaN                  NaN    ...      12.0  28.0   \n",
       "2017-12-29               NaN                  NaN    ...      12.0  29.0   \n",
       "2017-12-30               NaN                  NaN    ...      12.0  30.0   \n",
       "2017-12-31               NaN                  NaN    ...      12.0  31.0   \n",
       "\n",
       "            year  sunrise_int  sunset_int  dayofweek  weekday  sunsethour  \\\n",
       "2017-12-22  17.0        724.0      1651.0          4        1   16.850000   \n",
       "2017-12-23  17.0        724.0      1651.0          5        0   16.850000   \n",
       "2017-12-24  17.0        725.0      1652.0          6        0   16.866667   \n",
       "2017-12-25  17.0        725.0      1652.0          0        1   16.866667   \n",
       "2017-12-26  17.0        726.0      1653.0          1        1   16.883333   \n",
       "2017-12-27  17.0        726.0      1654.0          2        1   16.900000   \n",
       "2017-12-28  17.0        726.0      1654.0          3        1   16.900000   \n",
       "2017-12-29  17.0        726.0      1655.0          4        1   16.916667   \n",
       "2017-12-30  17.0        727.0      1656.0          5        0   16.933333   \n",
       "2017-12-31  17.0        727.0      1657.0          6        0   16.950000   \n",
       "\n",
       "            sunrisehour   day_hrs  \n",
       "2017-12-22     7.400000  9.450000  \n",
       "2017-12-23     7.400000  9.450000  \n",
       "2017-12-24     7.416667  9.450000  \n",
       "2017-12-25     7.416667  9.450000  \n",
       "2017-12-26     7.433333  9.450000  \n",
       "2017-12-27     7.433333  9.466667  \n",
       "2017-12-28     7.433333  9.466667  \n",
       "2017-12-29     7.433333  9.483333  \n",
       "2017-12-30     7.450000  9.483333  \n",
       "2017-12-31     7.450000  9.500000  \n",
       "\n",
       "[10 rows x 36 columns]"
      ]
     },
     "execution_count": 10,
     "metadata": {},
     "output_type": "execute_result"
    }
   ],
   "source": [
    "bikedataframe = bikedataframe.drop(['sunrise', 'sunset'], 1)\n",
    "bikedataframe = bikedataframe.replace(to_replace='T', value=0.01)\n",
    "bikedataframe = bikedataframe.astype(float)\n",
    "bikedataframe[\"dayofweek\"] = bikedataframe.index.dayofweek\n",
    "bikedataframe[\"weekday\"] = 0\n",
    "bikedataframe['weekday'] = np.where(bikedataframe['dayofweek'] < 5, 1, 0)\n",
    "bikedataframe['sunsethour'] = (bikedataframe['sunset_int'] // 100) + ((bikedataframe['sunset_int'] % 100) / 60)\n",
    "bikedataframe['sunrisehour'] = (bikedataframe['sunrise_int'] // 100) + ((bikedataframe['sunrise_int'] % 100) / 60)\n",
    "bikedataframe['day_hrs'] = bikedataframe['sunsethour'] - bikedataframe['sunrisehour']\n",
    "bikedataframe['year'] = bikedataframe['year'] - 2000\n",
    "bikedataframe.tail(10)"
   ]
  },
  {
   "cell_type": "markdown",
   "metadata": {
    "collapsed": false
   },
   "source": [
    "Holidays can also influence bike usage, especially commuter patterns. I used a built in Pandas function to get all the Federal holidays for 2009 to 2017.\n"
   ]
  },
  {
   "cell_type": "code",
   "execution_count": 12,
   "metadata": {
    "collapsed": false
   },
   "outputs": [],
   "source": [
    "from pandas.tseries.holiday import USFederalHolidayCalendar\n",
    "cal = USFederalHolidayCalendar()\n",
    "holidays = cal.holidays('2009', '2018')\n",
    "bikedataframe = bikedataframe.join(pd.Series(1, index=holidays, name='holiday'))\n",
    "bikedataframe['holiday'].fillna(0, inplace=True)"
   ]
  },
  {
   "cell_type": "code",
   "execution_count": 13,
   "metadata": {
    "collapsed": false
   },
   "outputs": [
    {
     "data": {
      "text/plain": [
       "DatetimeIndex(['2009-01-01', '2009-01-19', '2009-02-16', '2009-05-25',\n",
       "               '2009-07-03', '2009-09-07', '2009-10-12', '2009-11-11',\n",
       "               '2009-11-26', '2009-12-25', '2010-01-01', '2010-01-18',\n",
       "               '2010-02-15', '2010-05-31', '2010-07-05', '2010-09-06',\n",
       "               '2010-10-11', '2010-11-11', '2010-11-25', '2010-12-24',\n",
       "               '2010-12-31', '2011-01-17', '2011-02-21', '2011-05-30',\n",
       "               '2011-07-04', '2011-09-05', '2011-10-10', '2011-11-11',\n",
       "               '2011-11-24', '2011-12-26', '2012-01-02', '2012-01-16',\n",
       "               '2012-02-20', '2012-05-28', '2012-07-04', '2012-09-03',\n",
       "               '2012-10-08', '2012-11-12', '2012-11-22', '2012-12-25',\n",
       "               '2013-01-01', '2013-01-21', '2013-02-18', '2013-05-27',\n",
       "               '2013-07-04', '2013-09-02', '2013-10-14', '2013-11-11',\n",
       "               '2013-11-28', '2013-12-25', '2014-01-01', '2014-01-20',\n",
       "               '2014-02-17', '2014-05-26', '2014-07-04', '2014-09-01',\n",
       "               '2014-10-13', '2014-11-11', '2014-11-27', '2014-12-25',\n",
       "               '2015-01-01', '2015-01-19', '2015-02-16', '2015-05-25',\n",
       "               '2015-07-03', '2015-09-07', '2015-10-12', '2015-11-11',\n",
       "               '2015-11-26', '2015-12-25', '2016-01-01', '2016-01-18',\n",
       "               '2016-02-15', '2016-05-30', '2016-07-04', '2016-09-05',\n",
       "               '2016-10-10', '2016-11-11', '2016-11-24', '2016-12-26',\n",
       "               '2017-01-02', '2017-01-16', '2017-02-20', '2017-05-29',\n",
       "               '2017-07-04', '2017-09-04', '2017-10-09', '2017-11-10',\n",
       "               '2017-11-23', '2017-12-25', '2018-01-01'],\n",
       "              dtype='datetime64[ns]', freq=None)"
      ]
     },
     "execution_count": 13,
     "metadata": {},
     "output_type": "execute_result"
    }
   ],
   "source": [
    "holidays"
   ]
  },
  {
   "cell_type": "markdown",
   "metadata": {},
   "source": [
    "I also noticed that Bike to Work Day also impacts bike counts, so I added in those dates as bike_events. Are there any other bike events that should be added to these?"
   ]
  },
  {
   "cell_type": "code",
   "execution_count": 14,
   "metadata": {
    "collapsed": false
   },
   "outputs": [
    {
     "data": {
      "text/plain": [
       "DatetimeIndex(['2010-05-21', '2011-05-20', '2012-05-18', '2013-05-17',\n",
       "               '2014-05-16', '2015-05-15', '2016-05-20', '2017-05-19'],\n",
       "              dtype='datetime64[ns]', freq=None)"
      ]
     },
     "execution_count": 14,
     "metadata": {},
     "output_type": "execute_result"
    }
   ],
   "source": [
    "bike_events = pd.DatetimeIndex(['2010-05-21', '2011-05-20', '2012-05-18', '2013-05-17', '2014-05-16', '2015-05-15', '2016-05-20', '2017-05-19'])\n",
    "bike_events"
   ]
  },
  {
   "cell_type": "code",
   "execution_count": 15,
   "metadata": {
    "collapsed": true
   },
   "outputs": [],
   "source": [
    "bikedataframe = bikedataframe.join(pd.Series(1, index=bike_events, name='bike_events'))\n",
    "bikedataframe['bike_events'].fillna(0, inplace=True)"
   ]
  },
  {
   "cell_type": "markdown",
   "metadata": {
    "collapsed": false
   },
   "source": [
    "I then did a bit of data cleaning.  First, I dropped all rows with any missing data."
   ]
  },
  {
   "cell_type": "code",
   "execution_count": 17,
   "metadata": {
    "collapsed": false
   },
   "outputs": [],
   "source": [
    "bikedataframe.dropna(axis=0, how='any', thresh=None, subset=None, inplace=True)"
   ]
  },
  {
   "cell_type": "markdown",
   "metadata": {
    "collapsed": false
   },
   "source": [
    "Then I dropped any rows with counter data that did not have positive bike counts. This eliminated days when the counter might not have been working. (After making the bike counter model, we could go back and predict the bike counts for those days when the counter might not have been working correctly.)"
   ]
  },
  {
   "cell_type": "code",
   "execution_count": 20,
   "metadata": {
    "collapsed": false
   },
   "outputs": [
    {
     "data": {
      "text/plain": [
       "(2605, 38)"
      ]
     },
     "execution_count": 20,
     "metadata": {},
     "output_type": "execute_result"
    }
   ],
   "source": [
    "bikedataframe = bikedataframe.loc[bikedataframe['count'] > 0]\n",
    "bikedataframe.shape"
   ]
  },
  {
   "cell_type": "code",
   "execution_count": 21,
   "metadata": {
    "collapsed": false
   },
   "outputs": [
    {
     "data": {
      "text/plain": [
       "count                        float64\n",
       "DAILYSnowfall                float64\n",
       "DAILYSnowDepth               float64\n",
       "CloudCover                   float64\n",
       "Max Dew PointF               float64\n",
       "Max Gust SpeedMPH            float64\n",
       "Max Humidity                 float64\n",
       "Max Sea Level PressureIn     float64\n",
       "Max TemperatureF             float64\n",
       "Max VisibilityMiles          float64\n",
       "Max Wind SpeedMPH            float64\n",
       "Mean Humidity                float64\n",
       "Mean Sea Level PressureIn    float64\n",
       "Mean TemperatureF            float64\n",
       "Mean VisibilityMiles         float64\n",
       "Mean Wind SpeedMPH           float64\n",
       "MeanDew PointF               float64\n",
       "Min DewpointF                float64\n",
       "Min Humidity                 float64\n",
       "Min Sea Level PressureIn     float64\n",
       "Min TemperatureF             float64\n",
       "Min VisibilityMiles          float64\n",
       "PrecipitationIn              float64\n",
       "WindDirDegrees               float64\n",
       "Snow                         float64\n",
       "Fog                          float64\n",
       "month                        float64\n",
       "day                          float64\n",
       "year                         float64\n",
       "sunrise_int                  float64\n",
       "sunset_int                   float64\n",
       "dayofweek                      int32\n",
       "weekday                        int32\n",
       "sunsethour                   float64\n",
       "sunrisehour                  float64\n",
       "day_hrs                      float64\n",
       "holiday                      float64\n",
       "bike_events                  float64\n",
       "dtype: object"
      ]
     },
     "execution_count": 21,
     "metadata": {},
     "output_type": "execute_result"
    }
   ],
   "source": [
    "bikedataframe.dtypes"
   ]
  },
  {
   "cell_type": "code",
   "execution_count": null,
   "metadata": {
    "collapsed": true
   },
   "outputs": [],
   "source": [
    "I decided to merge the snow data into one snowtotal field that merges snowfall and snow depth measurements."
   ]
  },
  {
   "cell_type": "code",
   "execution_count": 22,
   "metadata": {
    "collapsed": false
   },
   "outputs": [],
   "source": [
    "bikedataframe['snowtotal'] = np.where(bikedataframe['DAILYSnowfall'] > bikedataframe['DAILYSnowDepth'],\n",
    "                                      bikedataframe['DAILYSnowfall'], bikedataframe['DAILYSnowDepth'])\n",
    "\n"
   ]
  },
  {
   "cell_type": "markdown",
   "metadata": {},
   "source": [
    "After some playing around, I decided to include the following fields in the daily bike counter model:\n",
    "* Max TemperatureF\n",
    "* Min TemperatureF\n",
    "* Max Humidity\n",
    "* Max Wind SpeedMPH\n",
    "* PrecipitationIn\n",
    "* weekday\n",
    "* holiday\n",
    "* day_hrs\n",
    "* snowtotal\n",
    "* Fog\n",
    "* year\n",
    "* sunsethour\n",
    "* CloudCover\n",
    "* bike_events\n"
   ]
  },
  {
   "cell_type": "code",
   "execution_count": null,
   "metadata": {
    "collapsed": true
   },
   "outputs": [],
   "source": [
    "names = ['Max TemperatureF', 'Min TemperatureF', 'Max Humidity', 'Max Wind SpeedMPH', 'PrecipitationIn', 'weekday', 'holiday', 'day_hrs',\n",
    "         'snowtotal', 'Fog', 'year', 'sunsethour', 'CloudCover', 'bike_events']\n"
   ]
  },
  {
   "cell_type": "markdown",
   "metadata": {},
   "source": [
    "Next I set the model X and Y variables."
   ]
  },
  {
   "cell_type": "code",
   "execution_count": 23,
   "metadata": {
    "collapsed": false
   },
   "outputs": [
    {
     "data": {
      "text/plain": [
       "(2605, 14)"
      ]
     },
     "execution_count": 23,
     "metadata": {},
     "output_type": "execute_result"
    }
   ],
   "source": [
    "X = bikedataframe[names]\n",
    "X.shape"
   ]
  },
  {
   "cell_type": "code",
   "execution_count": 24,
   "metadata": {
    "collapsed": true
   },
   "outputs": [],
   "source": [
    "y = bikedataframe['count']"
   ]
  },
  {
   "cell_type": "markdown",
   "metadata": {},
   "source": [
    "Now that the data is all cleaned up and selected, it is ready for modeling. However, I wasn’t sure which model to use and how to specify it. This process could have taken me days of research and I did try traditional linear regression and a few slightly more advanced methods before I decided to let the machine do the work. I found a python module called [TPOT](https://github.com/rhiever/tpot) that automatically creates and optimizes machine learning pipelines using genetic programming.\n"
   ]
  },
  {
   "cell_type": "code",
   "execution_count": 25,
   "metadata": {
    "collapsed": true
   },
   "outputs": [],
   "source": [
    "from tpot import TPOTRegressor\n",
    "from sklearn.model_selection import train_test_split"
   ]
  },
  {
   "cell_type": "markdown",
   "metadata": {},
   "source": [
    "I set aside 25 percent of the data as a testing dataset and trained the model with the remaining 75 percent of the data. This helps avoid overfitting issues and allows us to test the model on data that was not used to create the model."
   ]
  },
  {
   "cell_type": "code",
   "execution_count": 26,
   "metadata": {
    "collapsed": true
   },
   "outputs": [],
   "source": [
    "X_train, X_test, y_train, y_test = train_test_split(X, y,\n",
    "                                                    train_size=0.75, test_size=0.25, random_state=1)\n"
   ]
  },
  {
   "cell_type": "markdown",
   "metadata": {},
   "source": [
    "After to TPOT runs for an hour or two on the training dataset, it produces the recommended machine learning code that works best for this dataset."
   ]
  },
  {
   "cell_type": "code",
   "execution_count": 28,
   "metadata": {
    "collapsed": false
   },
   "outputs": [
    {
     "name": "stdout",
     "output_type": "stream",
     "text": [
      "Version 0.7.0 of tpot is outdated. Version 0.7.3 was released Friday April 28, 2017.\n",
      "Warning: xgboost.XGBRegressor is not available and will not be used by TPOT.\n"
     ]
    },
    {
     "name": "stderr",
     "output_type": "stream",
     "text": [
      "                                                                               \r"
     ]
    },
    {
     "name": "stdout",
     "output_type": "stream",
     "text": [
      "Generation 1 - Current best internal CV score: 46963.75152176955\n"
     ]
    },
    {
     "name": "stderr",
     "output_type": "stream",
     "text": [
      "                                                                               \r"
     ]
    },
    {
     "name": "stdout",
     "output_type": "stream",
     "text": [
      "Generation 2 - Current best internal CV score: 46215.097061178894\n"
     ]
    },
    {
     "name": "stderr",
     "output_type": "stream",
     "text": [
      "                                                                               \r"
     ]
    },
    {
     "name": "stdout",
     "output_type": "stream",
     "text": [
      "Generation 3 - Current best internal CV score: 46215.097061178894\n"
     ]
    },
    {
     "name": "stderr",
     "output_type": "stream",
     "text": [
      "                                                                               \r"
     ]
    },
    {
     "name": "stdout",
     "output_type": "stream",
     "text": [
      "Generation 4 - Current best internal CV score: 46215.097061178894\n"
     ]
    },
    {
     "name": "stderr",
     "output_type": "stream",
     "text": [
      "                                                                               \r"
     ]
    },
    {
     "name": "stdout",
     "output_type": "stream",
     "text": [
      "Generation 5 - Current best internal CV score: 46215.097061178894\n"
     ]
    },
    {
     "name": "stderr",
     "output_type": "stream",
     "text": [
      "                                                                               \r"
     ]
    },
    {
     "name": "stdout",
     "output_type": "stream",
     "text": [
      "Generation 6 - Current best internal CV score: 45811.474585961834\n"
     ]
    },
    {
     "name": "stderr",
     "output_type": "stream",
     "text": [
      "                                                                               \r"
     ]
    },
    {
     "name": "stdout",
     "output_type": "stream",
     "text": [
      "Generation 7 - Current best internal CV score: 45811.474585961834\n"
     ]
    },
    {
     "name": "stderr",
     "output_type": "stream",
     "text": [
      "                                                                               \r"
     ]
    },
    {
     "name": "stdout",
     "output_type": "stream",
     "text": [
      "Generation 8 - Current best internal CV score: 45741.32268883569\n"
     ]
    },
    {
     "name": "stderr",
     "output_type": "stream",
     "text": [
      "                                                                               \r"
     ]
    },
    {
     "name": "stdout",
     "output_type": "stream",
     "text": [
      "Generation 9 - Current best internal CV score: 45471.58471266144\n"
     ]
    },
    {
     "name": "stderr",
     "output_type": "stream",
     "text": [
      "                                                                               \r"
     ]
    },
    {
     "name": "stdout",
     "output_type": "stream",
     "text": [
      "Generation 10 - Current best internal CV score: 45437.128870773384\n"
     ]
    },
    {
     "name": "stderr",
     "output_type": "stream",
     "text": [
      "                                                                               \r"
     ]
    },
    {
     "name": "stdout",
     "output_type": "stream",
     "text": [
      "Generation 11 - Current best internal CV score: 45437.128870773384\n"
     ]
    },
    {
     "name": "stderr",
     "output_type": "stream",
     "text": [
      "                                                                               \r"
     ]
    },
    {
     "name": "stdout",
     "output_type": "stream",
     "text": [
      "Generation 12 - Current best internal CV score: 45287.84576732571\n"
     ]
    },
    {
     "name": "stderr",
     "output_type": "stream",
     "text": [
      "                                                                               \r"
     ]
    },
    {
     "name": "stdout",
     "output_type": "stream",
     "text": [
      "Generation 13 - Current best internal CV score: 44118.3220847647\n"
     ]
    },
    {
     "name": "stderr",
     "output_type": "stream",
     "text": [
      "                                                                               \r"
     ]
    },
    {
     "name": "stdout",
     "output_type": "stream",
     "text": [
      "Generation 14 - Current best internal CV score: 44118.3220847647\n"
     ]
    },
    {
     "name": "stderr",
     "output_type": "stream",
     "text": [
      "                                                                               \r"
     ]
    },
    {
     "name": "stdout",
     "output_type": "stream",
     "text": [
      "Generation 15 - Current best internal CV score: 44118.3220847647\n"
     ]
    },
    {
     "name": "stderr",
     "output_type": "stream",
     "text": [
      "                                                                               \r"
     ]
    },
    {
     "name": "stdout",
     "output_type": "stream",
     "text": [
      "Generation 16 - Current best internal CV score: 44018.02264580266\n"
     ]
    },
    {
     "name": "stderr",
     "output_type": "stream",
     "text": [
      "                                                                               \r"
     ]
    },
    {
     "name": "stdout",
     "output_type": "stream",
     "text": [
      "Generation 17 - Current best internal CV score: 44018.02264580266\n"
     ]
    },
    {
     "name": "stderr",
     "output_type": "stream",
     "text": [
      "                                                                               \r"
     ]
    },
    {
     "name": "stdout",
     "output_type": "stream",
     "text": [
      "Generation 18 - Current best internal CV score: 43699.12365336018\n"
     ]
    },
    {
     "name": "stderr",
     "output_type": "stream",
     "text": [
      "                                                                               \r"
     ]
    },
    {
     "name": "stdout",
     "output_type": "stream",
     "text": [
      "Generation 19 - Current best internal CV score: 43570.83523814218\n"
     ]
    },
    {
     "name": "stderr",
     "output_type": "stream",
     "text": [
      "                                                                               \r"
     ]
    },
    {
     "name": "stdout",
     "output_type": "stream",
     "text": [
      "Generation 20 - Current best internal CV score: 43570.83523814218\n"
     ]
    },
    {
     "name": "stderr",
     "output_type": "stream",
     "text": [
      "                                                                               \r"
     ]
    },
    {
     "name": "stdout",
     "output_type": "stream",
     "text": [
      "Generation 21 - Current best internal CV score: 43570.83523814218\n"
     ]
    },
    {
     "name": "stderr",
     "output_type": "stream",
     "text": [
      "                                                                               \r"
     ]
    },
    {
     "name": "stdout",
     "output_type": "stream",
     "text": [
      "Generation 22 - Current best internal CV score: 43412.08478799059\n"
     ]
    },
    {
     "name": "stderr",
     "output_type": "stream",
     "text": [
      "                                                                               \r"
     ]
    },
    {
     "name": "stdout",
     "output_type": "stream",
     "text": [
      "Generation 23 - Current best internal CV score: 43334.0359518531\n"
     ]
    },
    {
     "name": "stderr",
     "output_type": "stream",
     "text": [
      "                                                                               \r"
     ]
    },
    {
     "name": "stdout",
     "output_type": "stream",
     "text": [
      "Generation 24 - Current best internal CV score: 43334.0359518531\n"
     ]
    },
    {
     "name": "stderr",
     "output_type": "stream",
     "text": [
      "                                                                               \r"
     ]
    },
    {
     "name": "stdout",
     "output_type": "stream",
     "text": [
      "Generation 25 - Current best internal CV score: 42719.91053998506\n"
     ]
    },
    {
     "name": "stderr",
     "output_type": "stream",
     "text": [
      "                                                                               \r"
     ]
    },
    {
     "name": "stdout",
     "output_type": "stream",
     "text": [
      "Generation 26 - Current best internal CV score: 42719.91053998506\n"
     ]
    },
    {
     "name": "stderr",
     "output_type": "stream",
     "text": [
      "                                                                               \r"
     ]
    },
    {
     "name": "stdout",
     "output_type": "stream",
     "text": [
      "Generation 27 - Current best internal CV score: 42719.91053998506\n"
     ]
    },
    {
     "name": "stderr",
     "output_type": "stream",
     "text": [
      "                                                                               \r"
     ]
    },
    {
     "name": "stdout",
     "output_type": "stream",
     "text": [
      "Generation 28 - Current best internal CV score: 42719.91053998506\n"
     ]
    },
    {
     "name": "stderr",
     "output_type": "stream",
     "text": [
      "                                                                               \r"
     ]
    },
    {
     "name": "stdout",
     "output_type": "stream",
     "text": [
      "Generation 29 - Current best internal CV score: 42719.91053998506\n"
     ]
    },
    {
     "name": "stderr",
     "output_type": "stream",
     "text": [
      "                                                                               \r"
     ]
    },
    {
     "name": "stdout",
     "output_type": "stream",
     "text": [
      "Generation 30 - Current best internal CV score: 42719.91053998506\n"
     ]
    },
    {
     "name": "stderr",
     "output_type": "stream",
     "text": [
      "                                                                               \r"
     ]
    },
    {
     "name": "stdout",
     "output_type": "stream",
     "text": [
      "Generation 31 - Current best internal CV score: 42719.91053998506\n"
     ]
    },
    {
     "name": "stderr",
     "output_type": "stream",
     "text": [
      "                                                                               \r"
     ]
    },
    {
     "name": "stdout",
     "output_type": "stream",
     "text": [
      "Generation 32 - Current best internal CV score: 42719.91053998506\n"
     ]
    },
    {
     "name": "stderr",
     "output_type": "stream",
     "text": [
      "                                                                               \r"
     ]
    },
    {
     "name": "stdout",
     "output_type": "stream",
     "text": [
      "Generation 33 - Current best internal CV score: 42719.91053998506\n"
     ]
    },
    {
     "name": "stderr",
     "output_type": "stream",
     "text": [
      "                                                                               \r"
     ]
    },
    {
     "name": "stdout",
     "output_type": "stream",
     "text": [
      "Generation 34 - Current best internal CV score: 42719.91053998506\n"
     ]
    },
    {
     "name": "stderr",
     "output_type": "stream",
     "text": [
      "                                                                               \r"
     ]
    },
    {
     "name": "stdout",
     "output_type": "stream",
     "text": [
      "Generation 35 - Current best internal CV score: 42719.91053998506\n"
     ]
    },
    {
     "name": "stderr",
     "output_type": "stream",
     "text": [
      "                                                                               \r"
     ]
    },
    {
     "name": "stdout",
     "output_type": "stream",
     "text": [
      "Generation 36 - Current best internal CV score: 42719.91053998506\n"
     ]
    },
    {
     "name": "stderr",
     "output_type": "stream",
     "text": [
      "                                                                               \r"
     ]
    },
    {
     "name": "stdout",
     "output_type": "stream",
     "text": [
      "Generation 37 - Current best internal CV score: 42719.91053998506\n"
     ]
    },
    {
     "name": "stderr",
     "output_type": "stream",
     "text": [
      "                                                                               \r"
     ]
    },
    {
     "name": "stdout",
     "output_type": "stream",
     "text": [
      "Generation 38 - Current best internal CV score: 42719.91053998506\n"
     ]
    },
    {
     "name": "stderr",
     "output_type": "stream",
     "text": [
      "                                                                               \r"
     ]
    },
    {
     "name": "stdout",
     "output_type": "stream",
     "text": [
      "Generation 39 - Current best internal CV score: 42719.91053998506\n"
     ]
    },
    {
     "name": "stderr",
     "output_type": "stream",
     "text": [
      "                                                                               \r"
     ]
    },
    {
     "name": "stdout",
     "output_type": "stream",
     "text": [
      "Generation 40 - Current best internal CV score: 42719.91053998506\n"
     ]
    },
    {
     "name": "stderr",
     "output_type": "stream",
     "text": [
      "                                                                               \r"
     ]
    },
    {
     "name": "stdout",
     "output_type": "stream",
     "text": [
      "Generation 41 - Current best internal CV score: 42719.91053998506\n"
     ]
    },
    {
     "name": "stderr",
     "output_type": "stream",
     "text": [
      "                                                                               \r"
     ]
    },
    {
     "name": "stdout",
     "output_type": "stream",
     "text": [
      "Generation 42 - Current best internal CV score: 42719.91053998506\n"
     ]
    },
    {
     "name": "stderr",
     "output_type": "stream",
     "text": [
      "                                                                               \r"
     ]
    },
    {
     "name": "stdout",
     "output_type": "stream",
     "text": [
      "Generation 43 - Current best internal CV score: 42719.91053998506\n"
     ]
    },
    {
     "name": "stderr",
     "output_type": "stream",
     "text": [
      "                                                                               \r"
     ]
    },
    {
     "name": "stdout",
     "output_type": "stream",
     "text": [
      "Generation 44 - Current best internal CV score: 42671.90919197114\n"
     ]
    },
    {
     "name": "stderr",
     "output_type": "stream",
     "text": [
      "                                                                               \r"
     ]
    },
    {
     "name": "stdout",
     "output_type": "stream",
     "text": [
      "Generation 45 - Current best internal CV score: 42671.90919197114\n"
     ]
    },
    {
     "name": "stderr",
     "output_type": "stream",
     "text": [
      "                                                                               \r"
     ]
    },
    {
     "name": "stdout",
     "output_type": "stream",
     "text": [
      "Generation 46 - Current best internal CV score: 42671.90919197114\n"
     ]
    },
    {
     "name": "stderr",
     "output_type": "stream",
     "text": [
      "                                                                               \r"
     ]
    },
    {
     "name": "stdout",
     "output_type": "stream",
     "text": [
      "Generation 47 - Current best internal CV score: 42671.90919197114\n"
     ]
    },
    {
     "name": "stderr",
     "output_type": "stream",
     "text": [
      "                                                                               \r"
     ]
    },
    {
     "name": "stdout",
     "output_type": "stream",
     "text": [
      "Generation 48 - Current best internal CV score: 42671.90919197114\n"
     ]
    },
    {
     "name": "stderr",
     "output_type": "stream",
     "text": [
      "                                                                               \r"
     ]
    },
    {
     "name": "stdout",
     "output_type": "stream",
     "text": [
      "Generation 49 - Current best internal CV score: 42671.90919197114\n"
     ]
    },
    {
     "name": "stderr",
     "output_type": "stream",
     "text": [
      "                                                                               \r"
     ]
    },
    {
     "name": "stdout",
     "output_type": "stream",
     "text": [
      "Generation 50 - Current best internal CV score: 42671.90919197114\n"
     ]
    },
    {
     "name": "stderr",
     "output_type": "stream",
     "text": [
      "                                                                               \r"
     ]
    },
    {
     "name": "stdout",
     "output_type": "stream",
     "text": [
      "Generation 51 - Current best internal CV score: 42671.90919197114\n"
     ]
    },
    {
     "name": "stderr",
     "output_type": "stream",
     "text": [
      "                                                                               \r"
     ]
    },
    {
     "name": "stdout",
     "output_type": "stream",
     "text": [
      "Generation 52 - Current best internal CV score: 42671.90919197114\n"
     ]
    },
    {
     "name": "stderr",
     "output_type": "stream",
     "text": [
      "                                                                               \r"
     ]
    },
    {
     "name": "stdout",
     "output_type": "stream",
     "text": [
      "Generation 53 - Current best internal CV score: 42671.90919197114\n"
     ]
    },
    {
     "name": "stderr",
     "output_type": "stream",
     "text": [
      "                                                                               \r"
     ]
    },
    {
     "name": "stdout",
     "output_type": "stream",
     "text": [
      "Generation 54 - Current best internal CV score: 42671.90919197114\n"
     ]
    },
    {
     "name": "stderr",
     "output_type": "stream",
     "text": [
      "                                                                               \r"
     ]
    },
    {
     "name": "stdout",
     "output_type": "stream",
     "text": [
      "Generation 55 - Current best internal CV score: 42671.90919197114\n"
     ]
    },
    {
     "name": "stderr",
     "output_type": "stream",
     "text": [
      "                                                                               \r"
     ]
    },
    {
     "name": "stdout",
     "output_type": "stream",
     "text": [
      "Generation 56 - Current best internal CV score: 42671.90919197114\n"
     ]
    },
    {
     "name": "stderr",
     "output_type": "stream",
     "text": [
      "                                                                               \r"
     ]
    },
    {
     "name": "stdout",
     "output_type": "stream",
     "text": [
      "Generation 57 - Current best internal CV score: 42671.90919197114\n"
     ]
    },
    {
     "name": "stderr",
     "output_type": "stream",
     "text": [
      "                                                                               \r"
     ]
    },
    {
     "name": "stdout",
     "output_type": "stream",
     "text": [
      "Generation 58 - Current best internal CV score: 42671.90919197114\n"
     ]
    },
    {
     "name": "stderr",
     "output_type": "stream",
     "text": [
      "                                                                               \r"
     ]
    },
    {
     "name": "stdout",
     "output_type": "stream",
     "text": [
      "Generation 59 - Current best internal CV score: 42671.90919197114\n"
     ]
    },
    {
     "name": "stderr",
     "output_type": "stream",
     "text": [
      "                                                                               \r"
     ]
    },
    {
     "name": "stdout",
     "output_type": "stream",
     "text": [
      "Generation 60 - Current best internal CV score: 42671.90919197114\n"
     ]
    },
    {
     "name": "stderr",
     "output_type": "stream",
     "text": [
      "                                                                               \r"
     ]
    },
    {
     "name": "stdout",
     "output_type": "stream",
     "text": [
      "Generation 61 - Current best internal CV score: 42671.90919197114\n"
     ]
    },
    {
     "name": "stderr",
     "output_type": "stream",
     "text": [
      "                                                                               \r"
     ]
    },
    {
     "name": "stdout",
     "output_type": "stream",
     "text": [
      "Generation 62 - Current best internal CV score: 42671.90919197114\n"
     ]
    },
    {
     "name": "stderr",
     "output_type": "stream",
     "text": [
      "                                                                               \r"
     ]
    },
    {
     "name": "stdout",
     "output_type": "stream",
     "text": [
      "Generation 63 - Current best internal CV score: 42671.90919197114\n"
     ]
    },
    {
     "name": "stderr",
     "output_type": "stream",
     "text": [
      "                                                                               \r"
     ]
    },
    {
     "name": "stdout",
     "output_type": "stream",
     "text": [
      "Generation 64 - Current best internal CV score: 42671.90919197114\n"
     ]
    },
    {
     "name": "stderr",
     "output_type": "stream",
     "text": [
      "                                                                               \r"
     ]
    },
    {
     "name": "stdout",
     "output_type": "stream",
     "text": [
      "Generation 65 - Current best internal CV score: 42671.90919197114\n"
     ]
    },
    {
     "name": "stderr",
     "output_type": "stream",
     "text": [
      "                                                                               \r"
     ]
    },
    {
     "name": "stdout",
     "output_type": "stream",
     "text": [
      "Generation 66 - Current best internal CV score: 42671.90919197114\n"
     ]
    },
    {
     "name": "stderr",
     "output_type": "stream",
     "text": [
      "                                                                               \r"
     ]
    },
    {
     "name": "stdout",
     "output_type": "stream",
     "text": [
      "Generation 67 - Current best internal CV score: 42671.90919197114\n"
     ]
    },
    {
     "name": "stderr",
     "output_type": "stream",
     "text": [
      "                                                                               \r"
     ]
    },
    {
     "name": "stdout",
     "output_type": "stream",
     "text": [
      "Generation 68 - Current best internal CV score: 42671.90919197114\n"
     ]
    },
    {
     "name": "stderr",
     "output_type": "stream",
     "text": [
      "                                                                               \r"
     ]
    },
    {
     "name": "stdout",
     "output_type": "stream",
     "text": [
      "Generation 69 - Current best internal CV score: 42671.90919197114\n"
     ]
    },
    {
     "name": "stderr",
     "output_type": "stream",
     "text": [
      "                                                                               \r"
     ]
    },
    {
     "name": "stdout",
     "output_type": "stream",
     "text": [
      "Generation 70 - Current best internal CV score: 42671.90919197114\n"
     ]
    },
    {
     "name": "stderr",
     "output_type": "stream",
     "text": [
      "                                                                               \r"
     ]
    },
    {
     "name": "stdout",
     "output_type": "stream",
     "text": [
      "Generation 71 - Current best internal CV score: 42671.90919197114\n"
     ]
    },
    {
     "name": "stderr",
     "output_type": "stream",
     "text": [
      "                                                                               \r"
     ]
    },
    {
     "name": "stdout",
     "output_type": "stream",
     "text": [
      "Generation 72 - Current best internal CV score: 42671.90919197114\n"
     ]
    },
    {
     "name": "stderr",
     "output_type": "stream",
     "text": [
      "                                                                               \r"
     ]
    },
    {
     "name": "stdout",
     "output_type": "stream",
     "text": [
      "Generation 73 - Current best internal CV score: 42671.90919197114\n"
     ]
    },
    {
     "name": "stderr",
     "output_type": "stream",
     "text": [
      "                                                                               \r"
     ]
    },
    {
     "name": "stdout",
     "output_type": "stream",
     "text": [
      "Generation 74 - Current best internal CV score: 42671.90919197114\n"
     ]
    },
    {
     "name": "stderr",
     "output_type": "stream",
     "text": [
      "                                                                               \r"
     ]
    },
    {
     "name": "stdout",
     "output_type": "stream",
     "text": [
      "Generation 75 - Current best internal CV score: 42671.90919197114\n"
     ]
    },
    {
     "name": "stderr",
     "output_type": "stream",
     "text": [
      "                                                                               \r"
     ]
    },
    {
     "name": "stdout",
     "output_type": "stream",
     "text": [
      "Generation 76 - Current best internal CV score: 42671.90919197114\n"
     ]
    },
    {
     "name": "stderr",
     "output_type": "stream",
     "text": [
      "                                                                               \r"
     ]
    },
    {
     "name": "stdout",
     "output_type": "stream",
     "text": [
      "Generation 77 - Current best internal CV score: 42671.90919197114\n"
     ]
    },
    {
     "name": "stderr",
     "output_type": "stream",
     "text": [
      "                                                                               \r"
     ]
    },
    {
     "name": "stdout",
     "output_type": "stream",
     "text": [
      "Generation 78 - Current best internal CV score: 42671.90919197114\n"
     ]
    },
    {
     "name": "stderr",
     "output_type": "stream",
     "text": [
      "                                                                               \r"
     ]
    },
    {
     "name": "stdout",
     "output_type": "stream",
     "text": [
      "Generation 79 - Current best internal CV score: 42671.90919197114\n"
     ]
    },
    {
     "name": "stderr",
     "output_type": "stream",
     "text": [
      "                                                                               \r"
     ]
    },
    {
     "name": "stdout",
     "output_type": "stream",
     "text": [
      "Generation 80 - Current best internal CV score: 42671.90919197114\n"
     ]
    },
    {
     "name": "stderr",
     "output_type": "stream",
     "text": [
      "                                                                               \r"
     ]
    },
    {
     "name": "stdout",
     "output_type": "stream",
     "text": [
      "Generation 81 - Current best internal CV score: 42671.90919197114\n"
     ]
    },
    {
     "name": "stderr",
     "output_type": "stream",
     "text": [
      "                                                                               \r"
     ]
    },
    {
     "name": "stdout",
     "output_type": "stream",
     "text": [
      "Generation 82 - Current best internal CV score: 42671.90919197114\n"
     ]
    },
    {
     "name": "stderr",
     "output_type": "stream",
     "text": [
      "                                                                               \r"
     ]
    },
    {
     "name": "stdout",
     "output_type": "stream",
     "text": [
      "Generation 83 - Current best internal CV score: 42671.90919197114\n"
     ]
    },
    {
     "name": "stderr",
     "output_type": "stream",
     "text": [
      "                                                                               \r"
     ]
    },
    {
     "name": "stdout",
     "output_type": "stream",
     "text": [
      "Generation 84 - Current best internal CV score: 42671.90919197114\n"
     ]
    },
    {
     "name": "stderr",
     "output_type": "stream",
     "text": [
      "                                                                               \r"
     ]
    },
    {
     "name": "stdout",
     "output_type": "stream",
     "text": [
      "Generation 85 - Current best internal CV score: 42671.90919197114\n"
     ]
    },
    {
     "name": "stderr",
     "output_type": "stream",
     "text": [
      "                                                                               \r"
     ]
    },
    {
     "name": "stdout",
     "output_type": "stream",
     "text": [
      "Generation 86 - Current best internal CV score: 42671.90919197114\n"
     ]
    },
    {
     "name": "stderr",
     "output_type": "stream",
     "text": [
      "                                                                               \r"
     ]
    },
    {
     "name": "stdout",
     "output_type": "stream",
     "text": [
      "Generation 87 - Current best internal CV score: 42671.90919197114\n"
     ]
    },
    {
     "name": "stderr",
     "output_type": "stream",
     "text": [
      "                                                                               \r"
     ]
    },
    {
     "name": "stdout",
     "output_type": "stream",
     "text": [
      "Generation 88 - Current best internal CV score: 42671.90919197114\n"
     ]
    },
    {
     "name": "stderr",
     "output_type": "stream",
     "text": [
      "                                                                               \r"
     ]
    },
    {
     "name": "stdout",
     "output_type": "stream",
     "text": [
      "Generation 89 - Current best internal CV score: 42671.90919197114\n"
     ]
    },
    {
     "name": "stderr",
     "output_type": "stream",
     "text": [
      "                                                                               \r"
     ]
    },
    {
     "name": "stdout",
     "output_type": "stream",
     "text": [
      "Generation 90 - Current best internal CV score: 42671.90919197114\n"
     ]
    },
    {
     "name": "stderr",
     "output_type": "stream",
     "text": [
      "                                                                               \r"
     ]
    },
    {
     "name": "stdout",
     "output_type": "stream",
     "text": [
      "Generation 91 - Current best internal CV score: 42671.90919197114\n"
     ]
    },
    {
     "name": "stderr",
     "output_type": "stream",
     "text": [
      "                                                                               \r"
     ]
    },
    {
     "name": "stdout",
     "output_type": "stream",
     "text": [
      "Generation 92 - Current best internal CV score: 42671.90919197114\n"
     ]
    },
    {
     "name": "stderr",
     "output_type": "stream",
     "text": [
      "                                                                               \r"
     ]
    },
    {
     "name": "stdout",
     "output_type": "stream",
     "text": [
      "Generation 93 - Current best internal CV score: 42671.90919197114\n"
     ]
    },
    {
     "name": "stderr",
     "output_type": "stream",
     "text": [
      "                                                                               \r"
     ]
    },
    {
     "name": "stdout",
     "output_type": "stream",
     "text": [
      "Generation 94 - Current best internal CV score: 42671.90919197114\n"
     ]
    },
    {
     "name": "stderr",
     "output_type": "stream",
     "text": [
      "                                                                               \r"
     ]
    },
    {
     "name": "stdout",
     "output_type": "stream",
     "text": [
      "Generation 95 - Current best internal CV score: 42671.90919197114\n"
     ]
    },
    {
     "name": "stderr",
     "output_type": "stream",
     "text": [
      "                                                                               \r"
     ]
    },
    {
     "name": "stdout",
     "output_type": "stream",
     "text": [
      "Generation 96 - Current best internal CV score: 42671.90919197114\n"
     ]
    },
    {
     "name": "stderr",
     "output_type": "stream",
     "text": [
      "                                                                               \r"
     ]
    },
    {
     "name": "stdout",
     "output_type": "stream",
     "text": [
      "Generation 97 - Current best internal CV score: 42671.90919197114\n"
     ]
    },
    {
     "name": "stderr",
     "output_type": "stream",
     "text": [
      "                                                                               \r"
     ]
    },
    {
     "name": "stdout",
     "output_type": "stream",
     "text": [
      "Generation 98 - Current best internal CV score: 42671.90919197114\n"
     ]
    },
    {
     "name": "stderr",
     "output_type": "stream",
     "text": [
      "                                                                               \r"
     ]
    },
    {
     "name": "stdout",
     "output_type": "stream",
     "text": [
      "Generation 99 - Current best internal CV score: 42671.90919197114\n"
     ]
    },
    {
     "name": "stderr",
     "output_type": "stream",
     "text": [
      "                                                                               \r"
     ]
    },
    {
     "name": "stdout",
     "output_type": "stream",
     "text": [
      "Generation 100 - Current best internal CV score: 42671.90919197114\n"
     ]
    },
    {
     "name": "stderr",
     "output_type": "stream",
     "text": [
      "                                                                               \r"
     ]
    },
    {
     "name": "stdout",
     "output_type": "stream",
     "text": [
      "\n",
      "Best pipeline: GradientBoostingRegressor(RobustScaler(input_matrix), GradientBoostingRegressor__alpha=0.8, GradientBoostingRegressor__learning_rate=DEFAULT, GradientBoostingRegressor__loss=huber, GradientBoostingRegressor__max_depth=5, GradientBoostingRegressor__max_features=0.45, GradientBoostingRegressor__min_samples_leaf=1, GradientBoostingRegressor__min_samples_split=20, GradientBoostingRegressor__subsample=DEFAULT)\n",
      "51126.5686691\n"
     ]
    }
   ],
   "source": [
    "tpot = TPOTRegressor(verbosity=2)\n",
    "tpot.fit(X_train, y_train)\n",
    "print(tpot.score(X_test, y_test))\n",
    "tpot.export('bikeometer_pipeline_custis4boost.py')"
   ]
  },
  {
   "cell_type": "markdown",
   "metadata": {},
   "source": [
    "TPOT recommended a machine learning pipeline that uses RobustScaler that standardizes the dataset to be robust to outliers. Then a model is created using Gradient Boosting for regression."
   ]
  },
  {
   "cell_type": "code",
   "execution_count": 29,
   "metadata": {
    "collapsed": false
   },
   "outputs": [],
   "source": [
    "from sklearn.ensemble import GradientBoostingRegressor\n",
    "from sklearn.pipeline import make_pipeline\n",
    "from sklearn.preprocessing import RobustScaler\n",
    "\n",
    "exported_pipeline = make_pipeline(\n",
    "    RobustScaler(),\n",
    "    GradientBoostingRegressor(alpha=0.8, loss=\"huber\", max_depth=5, max_features=0.45, min_samples_leaf=1, min_samples_split=20)\n",
    ")\n",
    "\n",
    "exported_pipeline.fit(X_train, y_train)\n",
    "results = exported_pipeline.predict(X_test)"
   ]
  },
  {
   "cell_type": "markdown",
   "metadata": {},
   "source": [
    "Using the text data, it appears the model explains 85.6% of the variance between the predicted and actual bike count scores in the test data. The model seems to work very well."
   ]
  },
  {
   "cell_type": "code",
   "execution_count": 51,
   "metadata": {
    "collapsed": false
   },
   "outputs": [
    {
     "name": "stdout",
     "output_type": "stream",
     "text": [
      "R^2 test: 0.856\n",
      "49973.2048801\n",
      "0.856668839651\n"
     ]
    }
   ],
   "source": [
    "from sklearn.metrics import r2_score, mean_squared_error, explained_variance_score\n",
    "print('R^2 test: %.3f' % (r2_score(y_test, results)))\n",
    "print(mean_squared_error(y_test, results))\n",
    "print(explained_variance_score(y_test, results))"
   ]
  },
  {
   "cell_type": "markdown",
   "metadata": {},
   "source": [
    "Using all the data (test and training), the model explained variance score is 0.91. The best possible score is 1.0."
   ]
  },
  {
   "cell_type": "code",
   "execution_count": 31,
   "metadata": {
    "collapsed": true
   },
   "outputs": [],
   "source": [
    "y_predit = exported_pipeline.predict(X)"
   ]
  },
  {
   "cell_type": "code",
   "execution_count": 32,
   "metadata": {
    "collapsed": false
   },
   "outputs": [
    {
     "name": "stdout",
     "output_type": "stream",
     "text": [
      "R^2 train: 0.910\n"
     ]
    }
   ],
   "source": [
    "print('R^2 train: %.3f' % (r2_score(y, y_predit)))"
   ]
  },
  {
   "cell_type": "code",
   "execution_count": 34,
   "metadata": {
    "collapsed": false
   },
   "outputs": [
    {
     "data": {
      "text/plain": [
       "array([ 0.17268518,  0.13669496,  0.07440077,  0.06733982,  0.07585627,\n",
       "        0.04866366,  0.02143976,  0.10567712,  0.02531399,  0.00374478,\n",
       "        0.09048351,  0.0902412 ,  0.06091731,  0.02654167])"
      ]
     },
     "execution_count": 34,
     "metadata": {},
     "output_type": "execute_result"
    }
   ],
   "source": [
    "exported_pipeline.named_steps['gradientboostingregressor'].feature_importances_"
   ]
  },
  {
   "cell_type": "markdown",
   "metadata": {},
   "source": [
    "Looking at importance of each of the variables in this model, we can see that maximum temperature, minimum temperature, year and sunset hour are the most important. Fog was the least important feature. I might even want to consider dropping that component in the future from the model."
   ]
  },
  {
   "cell_type": "code",
   "execution_count": 52,
   "metadata": {
    "collapsed": false
   },
   "outputs": [
    {
     "name": "stdout",
     "output_type": "stream",
     "text": [
      "['Max TemperatureF', 'Min TemperatureF', 'Max Humidity', 'Max Wind SpeedMPH', 'PrecipitationIn', 'weekday', 'holiday', 'day_hrs', 'snowtotal', 'Fog', 'year', 'sunsethour', 'CloudCover', 'bike_events']\n",
      "[ 100.           79.15847564   43.08462879   38.99571286   43.92749538\n",
      "   28.18056555   12.41551691   61.19640296   14.65903882    2.16856028\n",
      "   52.39796124   52.25764043   35.2765139    15.36997574]\n"
     ]
    }
   ],
   "source": [
    "feature_importance = exported_pipeline.named_steps['gradientboostingregressor'].feature_importances_\n",
    "# make importances relative to max importance\n",
    "feature_importance = 100.0 * (feature_importance / feature_importance.max())\n",
    "print(names)\n",
    "print(feature_importance)"
   ]
  },
  {
   "cell_type": "markdown",
   "metadata": {},
   "source": [
    "Below is a plot of the actual counts in blue versus the daily predicted bike counts in green. I recommend right clicking on the chart to open the image in a new browser tab to see more of the details.  The predicted counts and actual counts appear to track very close to each other in most cases."
   ]
  },
  {
   "cell_type": "code",
   "execution_count": 41,
   "metadata": {
    "collapsed": false
   },
   "outputs": [
    {
     "data": {
      "text/plain": [
       "<matplotlib.axes._subplots.AxesSubplot at 0x11afce80>"
      ]
     },
     "execution_count": 41,
     "metadata": {},
     "output_type": "execute_result"
    },
    {
     "data": {
      "image/png": "[encoded data removed]",
      "text/plain": [
       "<matplotlib.figure.Figure at 0x12c1bb70>"
      ]
     },
     "metadata": {},
     "output_type": "display_data"
    }
   ],
   "source": [
    "import matplotlib.pyplot as plt\n",
    "%matplotlib inline\n",
    "import seaborn as sns; sns.set()\n",
    "bikedataframe['predicted'] = y_predit\n",
    "bikedataframe[['count', 'predicted']].plot(figsize=(24,16),alpha=0.5)"
   ]
  },
  {
   "cell_type": "markdown",
   "metadata": {},
   "source": [
    "Below you'll find a table that compares the actual count to predicted counts for the past 30 days.  Most days the predictions are pretty close. The only item that jumps out at me is for May 6th. The prediction (789) was much higher than the actual count (319). I wonder if there was some disruption on the trail that day."
   ]
  },
  {
   "cell_type": "code",
   "execution_count": 42,
   "metadata": {
    "collapsed": false,
    "scrolled": true
   },
   "outputs": [
    {
     "data": {
      "text/html": [
       "<div>\n",
       "<table border=\"1\" class=\"dataframe\">\n",
       "  <thead>\n",
       "    <tr style=\"text-align: right;\">\n",
       "      <th></th>\n",
       "      <th>count</th>\n",
       "      <th>predicted</th>\n",
       "    </tr>\n",
       "  </thead>\n",
       "  <tbody>\n",
       "    <tr>\n",
       "      <th>2017-04-16</th>\n",
       "      <td>1177.0</td>\n",
       "      <td>1242.276148</td>\n",
       "    </tr>\n",
       "    <tr>\n",
       "      <th>2017-04-17</th>\n",
       "      <td>1263.0</td>\n",
       "      <td>1447.325830</td>\n",
       "    </tr>\n",
       "    <tr>\n",
       "      <th>2017-04-18</th>\n",
       "      <td>2236.0</td>\n",
       "      <td>1813.757141</td>\n",
       "    </tr>\n",
       "    <tr>\n",
       "      <th>2017-04-19</th>\n",
       "      <td>1449.0</td>\n",
       "      <td>1368.067171</td>\n",
       "    </tr>\n",
       "    <tr>\n",
       "      <th>2017-04-20</th>\n",
       "      <td>1521.0</td>\n",
       "      <td>1408.883854</td>\n",
       "    </tr>\n",
       "    <tr>\n",
       "      <th>2017-04-21</th>\n",
       "      <td>1257.0</td>\n",
       "      <td>1462.360464</td>\n",
       "    </tr>\n",
       "    <tr>\n",
       "      <th>2017-04-22</th>\n",
       "      <td>276.0</td>\n",
       "      <td>476.303339</td>\n",
       "    </tr>\n",
       "    <tr>\n",
       "      <th>2017-04-23</th>\n",
       "      <td>939.0</td>\n",
       "      <td>875.377852</td>\n",
       "    </tr>\n",
       "    <tr>\n",
       "      <th>2017-04-24</th>\n",
       "      <td>617.0</td>\n",
       "      <td>644.473440</td>\n",
       "    </tr>\n",
       "    <tr>\n",
       "      <th>2017-04-25</th>\n",
       "      <td>666.0</td>\n",
       "      <td>723.079040</td>\n",
       "    </tr>\n",
       "    <tr>\n",
       "      <th>2017-04-26</th>\n",
       "      <td>1682.0</td>\n",
       "      <td>1622.781476</td>\n",
       "    </tr>\n",
       "    <tr>\n",
       "      <th>2017-04-27</th>\n",
       "      <td>1935.0</td>\n",
       "      <td>1866.287249</td>\n",
       "    </tr>\n",
       "    <tr>\n",
       "      <th>2017-04-28</th>\n",
       "      <td>1811.0</td>\n",
       "      <td>1870.793485</td>\n",
       "    </tr>\n",
       "    <tr>\n",
       "      <th>2017-04-29</th>\n",
       "      <td>1398.0</td>\n",
       "      <td>1354.288780</td>\n",
       "    </tr>\n",
       "    <tr>\n",
       "      <th>2017-04-30</th>\n",
       "      <td>1312.0</td>\n",
       "      <td>1437.994964</td>\n",
       "    </tr>\n",
       "    <tr>\n",
       "      <th>2017-05-01</th>\n",
       "      <td>1619.0</td>\n",
       "      <td>1650.689824</td>\n",
       "    </tr>\n",
       "    <tr>\n",
       "      <th>2017-05-02</th>\n",
       "      <td>2130.0</td>\n",
       "      <td>1963.954633</td>\n",
       "    </tr>\n",
       "    <tr>\n",
       "      <th>2017-05-03</th>\n",
       "      <td>1939.0</td>\n",
       "      <td>1714.564467</td>\n",
       "    </tr>\n",
       "    <tr>\n",
       "      <th>2017-05-04</th>\n",
       "      <td>1667.0</td>\n",
       "      <td>1274.030163</td>\n",
       "    </tr>\n",
       "    <tr>\n",
       "      <th>2017-05-05</th>\n",
       "      <td>379.0</td>\n",
       "      <td>481.329602</td>\n",
       "    </tr>\n",
       "    <tr>\n",
       "      <th>2017-05-06</th>\n",
       "      <td>319.0</td>\n",
       "      <td>789.281320</td>\n",
       "    </tr>\n",
       "    <tr>\n",
       "      <th>2017-05-07</th>\n",
       "      <td>945.0</td>\n",
       "      <td>950.410591</td>\n",
       "    </tr>\n",
       "    <tr>\n",
       "      <th>2017-05-08</th>\n",
       "      <td>1679.0</td>\n",
       "      <td>1714.805215</td>\n",
       "    </tr>\n",
       "    <tr>\n",
       "      <th>2017-05-09</th>\n",
       "      <td>1836.0</td>\n",
       "      <td>1745.326191</td>\n",
       "    </tr>\n",
       "    <tr>\n",
       "      <th>2017-05-10</th>\n",
       "      <td>2029.0</td>\n",
       "      <td>1892.562776</td>\n",
       "    </tr>\n",
       "    <tr>\n",
       "      <th>2017-05-11</th>\n",
       "      <td>513.0</td>\n",
       "      <td>564.913146</td>\n",
       "    </tr>\n",
       "    <tr>\n",
       "      <th>2017-05-12</th>\n",
       "      <td>706.0</td>\n",
       "      <td>719.381597</td>\n",
       "    </tr>\n",
       "    <tr>\n",
       "      <th>2017-05-13</th>\n",
       "      <td>434.0</td>\n",
       "      <td>228.132535</td>\n",
       "    </tr>\n",
       "    <tr>\n",
       "      <th>2017-05-14</th>\n",
       "      <td>1522.0</td>\n",
       "      <td>1214.172210</td>\n",
       "    </tr>\n",
       "    <tr>\n",
       "      <th>2017-05-15</th>\n",
       "      <td>1978.0</td>\n",
       "      <td>2027.362958</td>\n",
       "    </tr>\n",
       "  </tbody>\n",
       "</table>\n",
       "</div>"
      ],
      "text/plain": [
       "             count    predicted\n",
       "2017-04-16  1177.0  1242.276148\n",
       "2017-04-17  1263.0  1447.325830\n",
       "2017-04-18  2236.0  1813.757141\n",
       "2017-04-19  1449.0  1368.067171\n",
       "2017-04-20  1521.0  1408.883854\n",
       "2017-04-21  1257.0  1462.360464\n",
       "2017-04-22   276.0   476.303339\n",
       "2017-04-23   939.0   875.377852\n",
       "2017-04-24   617.0   644.473440\n",
       "2017-04-25   666.0   723.079040\n",
       "2017-04-26  1682.0  1622.781476\n",
       "2017-04-27  1935.0  1866.287249\n",
       "2017-04-28  1811.0  1870.793485\n",
       "2017-04-29  1398.0  1354.288780\n",
       "2017-04-30  1312.0  1437.994964\n",
       "2017-05-01  1619.0  1650.689824\n",
       "2017-05-02  2130.0  1963.954633\n",
       "2017-05-03  1939.0  1714.564467\n",
       "2017-05-04  1667.0  1274.030163\n",
       "2017-05-05   379.0   481.329602\n",
       "2017-05-06   319.0   789.281320\n",
       "2017-05-07   945.0   950.410591\n",
       "2017-05-08  1679.0  1714.805215\n",
       "2017-05-09  1836.0  1745.326191\n",
       "2017-05-10  2029.0  1892.562776\n",
       "2017-05-11   513.0   564.913146\n",
       "2017-05-12   706.0   719.381597\n",
       "2017-05-13   434.0   228.132535\n",
       "2017-05-14  1522.0  1214.172210\n",
       "2017-05-15  1978.0  2027.362958"
      ]
     },
     "execution_count": 42,
     "metadata": {},
     "output_type": "execute_result"
    }
   ],
   "source": [
    "bikedataframe[['count', 'predicted']].tail(30)"
   ]
  },
  {
   "cell_type": "markdown",
   "metadata": {},
   "source": [
    "Let me try to use this model to predict the daily bike counts for the Custis Rosslyn counter for the next few days. The weather forecast and other data for the next few days are listed below."
   ]
  },
  {
   "cell_type": "code",
   "execution_count": 70,
   "metadata": {
    "collapsed": false
   },
   "outputs": [
    {
     "data": {
      "text/html": [
       "<div>\n",
       "<table border=\"1\" class=\"dataframe\">\n",
       "  <thead>\n",
       "    <tr style=\"text-align: right;\">\n",
       "      <th></th>\n",
       "      <th>month</th>\n",
       "      <th>day</th>\n",
       "      <th>year</th>\n",
       "      <th>sunrise</th>\n",
       "      <th>sunset</th>\n",
       "      <th>sunrise_int</th>\n",
       "      <th>sunset_int</th>\n",
       "    </tr>\n",
       "  </thead>\n",
       "  <tbody>\n",
       "    <tr>\n",
       "      <th>2017-05-17</th>\n",
       "      <td>5</td>\n",
       "      <td>17</td>\n",
       "      <td>2017</td>\n",
       "      <td>5:54 a.m.</td>\n",
       "      <td>8:16 p.m.</td>\n",
       "      <td>554</td>\n",
       "      <td>2016</td>\n",
       "    </tr>\n",
       "    <tr>\n",
       "      <th>2017-05-18</th>\n",
       "      <td>5</td>\n",
       "      <td>18</td>\n",
       "      <td>2017</td>\n",
       "      <td>5:53 a.m.</td>\n",
       "      <td>8:17 p.m.</td>\n",
       "      <td>553</td>\n",
       "      <td>2017</td>\n",
       "    </tr>\n",
       "    <tr>\n",
       "      <th>2017-05-19</th>\n",
       "      <td>5</td>\n",
       "      <td>19</td>\n",
       "      <td>2017</td>\n",
       "      <td>5:52 a.m.</td>\n",
       "      <td>8:18 p.m.</td>\n",
       "      <td>552</td>\n",
       "      <td>2018</td>\n",
       "    </tr>\n",
       "    <tr>\n",
       "      <th>2017-05-20</th>\n",
       "      <td>5</td>\n",
       "      <td>20</td>\n",
       "      <td>2017</td>\n",
       "      <td>5:52 a.m.</td>\n",
       "      <td>8:19 p.m.</td>\n",
       "      <td>552</td>\n",
       "      <td>2019</td>\n",
       "    </tr>\n",
       "  </tbody>\n",
       "</table>\n",
       "</div>"
      ],
      "text/plain": [
       "            month  day  year    sunrise     sunset  sunrise_int  sunset_int\n",
       "2017-05-17      5   17  2017  5:54 a.m.  8:16 p.m.          554        2016\n",
       "2017-05-18      5   18  2017  5:53 a.m.  8:17 p.m.          553        2017\n",
       "2017-05-19      5   19  2017  5:52 a.m.  8:18 p.m.          552        2018\n",
       "2017-05-20      5   20  2017  5:52 a.m.  8:19 p.m.          552        2019"
      ]
     },
     "execution_count": 70,
     "metadata": {},
     "output_type": "execute_result"
    }
   ],
   "source": [
    "dfsunrise.loc['2017-05-17': '2017-05-20']"
   ]
  },
  {
   "cell_type": "code",
   "execution_count": 72,
   "metadata": {
    "collapsed": false
   },
   "outputs": [],
   "source": [
    "forecast_data = {'date': ['2017-05-17', '2017-05-18', '2017-05-19', '2017-05-20'], \n",
    "                 'Max TemperatureF': [93.0, 92, 89, 70], \n",
    "                 'Min TemperatureF': [71.0, 71, 59, 55], \n",
    "                 'Max Humidity': [78.0, 64, 84, 71], \n",
    "                 'Max Wind SpeedMPH': [11.0, 12, 11, 10], \n",
    "                 'PrecipitationIn': [0.0, 0.0, 0.22, 0],\n",
    "                 'weekday': [1, 1, 1, 0], \n",
    "                 'holiday': [0, 0, 0, 0], \n",
    "                 'day_hrs': [14.36, 14.39, 14.42, 14.45],\n",
    "                 'snowtotal': [0, 0, 0, 0], \n",
    "                 'Fog': [0, 0, 0, 0], \n",
    "                 'year': [17.0, 17.0, 17.0, 17.0], \n",
    "                 'sunsethour': [20.267, 20.283, 20.3, 20.317], \n",
    "                 'CloudCover': [1, 3, 4, 3],\n",
    "                 'bike_events': [0, 0, 1, 0]}\n",
    "\n",
    "df_forecast = pd.DataFrame.from_dict(forecast_data)\n",
    "df_forecast['date'] = pd.to_datetime(df_forecast.date)\n",
    "df_forecast = df_forecast.set_index(\"date\")\n"
   ]
  },
  {
   "cell_type": "code",
   "execution_count": 73,
   "metadata": {
    "collapsed": false
   },
   "outputs": [
    {
     "data": {
      "text/plain": [
       "array([ 1878.2631757 ,  1974.63097607,  2325.80212972,  1460.41111228])"
      ]
     },
     "execution_count": 73,
     "metadata": {},
     "output_type": "execute_result"
    }
   ],
   "source": [
    "F = df_forecast[names]\n",
    "y_forecast = exported_pipeline.predict(F)\n",
    "y_forecast"
   ]
  },
  {
   "cell_type": "code",
   "execution_count": 74,
   "metadata": {
    "collapsed": false
   },
   "outputs": [
    {
     "name": "stdout",
     "output_type": "stream",
     "text": [
      "1878 bike counts forecast for May 17, 2017.\n",
      "1974 bike counts forecast for May 18, 2017.\n",
      "2325 bike counts forecast for May 19, 2017.\n",
      "1460 bike counts forecast for May 20, 2017.\n"
     ]
    }
   ],
   "source": [
    "print(int(y_forecast[0]), \"bike counts forecast for May 17, 2017.\")\n",
    "print(int(y_forecast[1]), \"bike counts forecast for May 18, 2017.\")\n",
    "print(int(y_forecast[2]), \"bike counts forecast for May 19, 2017.\")\n",
    "print(int(y_forecast[3]), \"bike counts forecast for May 20, 2017.\")"
   ]
  },
  {
   "cell_type": "markdown",
   "metadata": {
    "collapsed": true
   },
   "source": [
    "I'll check back in the next few days and list the actual count data in the comments section below. \n",
    "\n",
    "As you could imagine, a model of daily bike usage could be useful for planning purposes. You could also use a tool like this to monitor data quality from the counter sensors by detecting large deviations from predicted counts. It also might alert government staff when external issues might be impacting bike trail usage."
   ]
  },
  {
   "cell_type": "code",
   "execution_count": null,
   "metadata": {
    "collapsed": true
   },
   "outputs": [],
   "source": []
  }
 ],
 "metadata": {
  "kernelspec": {
   "display_name": "Python 3",
   "env": {},
   "language": "python",
   "name": "python3"
  },
  "nikola": {
   "category": "",
   "date": "2017-05-17 13:30:48 UTC-04:00",
   "description": "",
   "link": "",
   "slug": "custis-trail-bike-count-forecaster",
   "tags": "scikit-learn, TPOT, machine learning",
   "title": "Custis Trail Bike Count Forecaster",
   "type": "text"
  }
 },
 "nbformat": 4,
 "nbformat_minor": 2
}
