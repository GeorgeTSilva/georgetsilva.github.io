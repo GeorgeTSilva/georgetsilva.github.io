{
 "cells": [
  {
   "cell_type": "markdown",
   "metadata": {},
   "source": [
    "Arlington, Virginia has this great Bikeometer on the Custis Trail in Rosslyn. This tall digital sign always catches my attention when I ride by it. It displays the number of bicycles that pass that sign daily, monthly and year to date. I discovered that this data is also available online. I decided to use my Python skills to import this data, clean it up, and do some basic analysis.<!-- TEASER_END -->\n",
    "\n",
    "Accoring to Arlington's website, the Rosslyn Bikeometer, the first Eco-Totem on the east coast, launched April 1, 2014. Westbound Lee Highway near N Lynn Street, Rosslyn. Bicycle-only detection and display is in real time with direction detection, four pavement loops.  You can find out more about it at http://www.bikearlington.com/pages/biking-in-arlington/counting-bikes-to-plan-for-bikes/about-the-counters/."
   ]
  },
  {
   "cell_type": "markdown",
   "metadata": {},
   "source": [
    "My first step in this project was to start this Python 3.5 Jupyter Notebook.  Then I import the libraries I plan to use for this project. They are as follows:"
   ]
  },
  {
   "cell_type": "code",
   "execution_count": 1,
   "metadata": {
    "collapsed": true
   },
   "outputs": [],
   "source": [
    "import pandas as pd\n",
    "import requests\n",
    "from xml.etree import ElementTree\n",
    "import numpy as np"
   ]
  },
  {
   "cell_type": "markdown",
   "metadata": {},
   "source": [
    "Then I created an API query to get the Rosslyn Bikeometer (counter number 28) from April 1, 2014 to January 1, 2017 for bicycles in the inbound direction.  For this first look at the data, I decided to only pull the daily totals. Using the url link, the following code uses Requests to get the url and save it to the local file, xml_data.xml. Arlington provides the details of their API at http://www.bikearlington.com/tasks/sites/bike/assets/File/Regional_bikearlington_webservices.pdf.\n"
   ]
  },
  {
   "cell_type": "code",
   "execution_count": 2,
   "metadata": {
    "collapsed": false
   },
   "outputs": [],
   "source": [
    "url = \"http://webservices.commuterpage.com/counters.cfc?wsdl&method=GetCountInDateRange&counterid=28&startDate=04/01/2014&endDate=01/01/2017&direction=I&mode=B&interval=d\"\n",
    "xmlfile = open('xml_data.xml', 'w')\n",
    "xmldata = requests.get(url)\n",
    "xmlfile.write(xmldata.text)\n",
    "xmlfile.close()\n",
    "\n",
    "xml_data = 'xml_data.xml'"
   ]
  },
  {
   "cell_type": "markdown",
   "metadata": {},
   "source": [
    "I took the XML data file and parsed it with ElementTree."
   ]
  },
  {
   "cell_type": "code",
   "execution_count": 3,
   "metadata": {
    "collapsed": false
   },
   "outputs": [],
   "source": [
    "document = ElementTree.parse(xml_data)"
   ]
  },
  {
   "cell_type": "markdown",
   "metadata": {},
   "source": [
    "After parsing the XML file, I pulled out the \"count\" data using document.find()."
   ]
  },
  {
   "cell_type": "code",
   "execution_count": 5,
   "metadata": {
    "collapsed": false
   },
   "outputs": [],
   "source": [
    "cnt = document.find('count')"
   ]
  },
  {
   "cell_type": "markdown",
   "metadata": {},
   "source": [
    "Then you can extract the data using the attributes for count.  These include count, date, direction, and mode. For now, I only need count and date."
   ]
  },
  {
   "cell_type": "code",
   "execution_count": 6,
   "metadata": {
    "collapsed": false
   },
   "outputs": [
    {
     "data": {
      "text/plain": [
       "'I'"
      ]
     },
     "execution_count": 6,
     "metadata": {},
     "output_type": "execute_result"
    }
   ],
   "source": [
    "cnt.attrib['count']\n",
    "cnt.attrib['date']\n",
    "cnt.attrib['direction']"
   ]
  },
  {
   "cell_type": "code",
   "execution_count": 7,
   "metadata": {
    "collapsed": false,
    "scrolled": false
   },
   "outputs": [
    {
     "data": {
      "text/html": [
       "<div>\n",
       "<table border=\"1\" class=\"dataframe\">\n",
       "  <thead>\n",
       "    <tr style=\"text-align: right;\">\n",
       "      <th></th>\n",
       "      <th>count</th>\n",
       "      <th>date</th>\n",
       "    </tr>\n",
       "  </thead>\n",
       "  <tbody>\n",
       "    <tr>\n",
       "      <th>0</th>\n",
       "      <td>710</td>\n",
       "      <td>2014-04-01</td>\n",
       "    </tr>\n",
       "    <tr>\n",
       "      <th>1</th>\n",
       "      <td>688</td>\n",
       "      <td>2014-04-02</td>\n",
       "    </tr>\n",
       "    <tr>\n",
       "      <th>2</th>\n",
       "      <td>514</td>\n",
       "      <td>2014-04-03</td>\n",
       "    </tr>\n",
       "    <tr>\n",
       "      <th>3</th>\n",
       "      <td>424</td>\n",
       "      <td>2014-04-04</td>\n",
       "    </tr>\n",
       "    <tr>\n",
       "      <th>4</th>\n",
       "      <td>474</td>\n",
       "      <td>2014-04-05</td>\n",
       "    </tr>\n",
       "  </tbody>\n",
       "</table>\n",
       "</div>"
      ],
      "text/plain": [
       "  count       date\n",
       "0   710 2014-04-01\n",
       "1   688 2014-04-02\n",
       "2   514 2014-04-03\n",
       "3   424 2014-04-04\n",
       "4   474 2014-04-05"
      ]
     },
     "execution_count": 7,
     "metadata": {},
     "output_type": "execute_result"
    }
   ],
   "source": [
    "date = []\n",
    "count = []\n",
    "for day in document.findall('count'):\n",
    "    date.append(day.attrib['date'])\n",
    "    count.append(day.attrib['count'])\n",
    "dfbikes = pd.DataFrame({'date' : date, 'count': count})\n",
    "dfbikes['date'] = pd.to_datetime(dfbikes.date)\n",
    "dfbikes.head()"
   ]
  },
  {
   "cell_type": "markdown",
   "metadata": {},
   "source": [
    "The above dataframe can then be merged with other data for each of the dates listed. You can speed up this process by making the date field the index."
   ]
  },
  {
   "cell_type": "code",
   "execution_count": 8,
   "metadata": {
    "collapsed": false,
    "scrolled": true
   },
   "outputs": [
    {
     "data": {
      "text/html": [
       "<div>\n",
       "<table border=\"1\" class=\"dataframe\">\n",
       "  <thead>\n",
       "    <tr style=\"text-align: right;\">\n",
       "      <th></th>\n",
       "      <th>count</th>\n",
       "    </tr>\n",
       "    <tr>\n",
       "      <th>date</th>\n",
       "      <th></th>\n",
       "    </tr>\n",
       "  </thead>\n",
       "  <tbody>\n",
       "    <tr>\n",
       "      <th>2014-04-01</th>\n",
       "      <td>710</td>\n",
       "    </tr>\n",
       "    <tr>\n",
       "      <th>2014-04-02</th>\n",
       "      <td>688</td>\n",
       "    </tr>\n",
       "    <tr>\n",
       "      <th>2014-04-03</th>\n",
       "      <td>514</td>\n",
       "    </tr>\n",
       "    <tr>\n",
       "      <th>2014-04-04</th>\n",
       "      <td>424</td>\n",
       "    </tr>\n",
       "    <tr>\n",
       "      <th>2014-04-05</th>\n",
       "      <td>474</td>\n",
       "    </tr>\n",
       "  </tbody>\n",
       "</table>\n",
       "</div>"
      ],
      "text/plain": [
       "           count\n",
       "date            \n",
       "2014-04-01   710\n",
       "2014-04-02   688\n",
       "2014-04-03   514\n",
       "2014-04-04   424\n",
       "2014-04-05   474"
      ]
     },
     "execution_count": 8,
     "metadata": {},
     "output_type": "execute_result"
    }
   ],
   "source": [
    "dfbikes = dfbikes.set_index(\"date\")\n",
    "dfbikes.head()"
   ]
  },
  {
   "cell_type": "markdown",
   "metadata": {},
   "source": [
    "## Adding in Weather Data\n",
    "\n",
    "People typically consider weather conditions before deciding to take a bike trip. Thankfully, Arlington County also provides easy access to their local weather data via API.  The API details are provided below.\n",
    "\n",
    "Source: http://webservices.commuterpage.com/weatherdata.cfc?wsdl&method=GetCodes\n",
    "\n",
    "```xml\n",
    "<weather_codes>\n",
    "<code name=\"dewpoint\" binary=\"No\" cumulative=\"No\" units=\"°F\"/>\n",
    "<code name=\"fog\" binary=\"Yes\" cumulative=\"No\" units=\"\"/>\n",
    "<code name=\"hail\" binary=\"Yes\" cumulative=\"No\" units=\"\"/>\n",
    "<code name=\"rain\" binary=\"Yes\" cumulative=\"No\" units=\"\"/>\n",
    "<code name=\"snow\" binary=\"Yes\" cumulative=\"No\" units=\"\"/>\n",
    "<code name=\"thunder\" binary=\"Yes\" cumulative=\"No\" units=\"\"/>\n",
    "<code name=\"tornado\" binary=\"Yes\" cumulative=\"No\" units=\"\"/>\n",
    "<code name=\"humidity\" binary=\"No\" cumulative=\"No\" units=\"%\"/>\n",
    "<code name=\"pressure\" binary=\"No\" cumulative=\"No\" units=\"inHg\"/>\n",
    "<code name=\"temperature\" binary=\"No\" cumulative=\"No\" units=\"°F\"/>\n",
    "<code name=\"visibility\" binary=\"No\" cumulative=\"No\" units=\"miles\"/>\n",
    "<code name=\"windspeed\" binary=\"No\" cumulative=\"No\" units=\"mph\"/>\n",
    "<code name=\"precipitation\" binary=\"No\" cumulative=\"Yes\" units=\"inches\"/>\n",
    "</weather_codes>\n",
    "\n",
    "```\n",
    "\n",
    "\n",
    "Description: Returns the weather data based on the requested weather code and the\n",
    "date.\n",
    "Request Fields:\n",
    "• dates: string value, required field. Is a range of dates to retrieve the weather\n",
    "data, acceptable format yyyymmdd-yyyymmdd\n",
    "• code: string value, required field. Supply the available weather codes from the\n",
    "getcodes response.\n",
    "• function: string value, optional. Function to perform on the data (avg, sum, min,\n",
    "max); defaults to avg.\n",
    "• hours: string value, optional. Hours in 24-hour format (0-23); may be commadelimited\n",
    "list, hyphen-separated range, or special keywords \"all\" or \"daytime\"\n",
    "• dayLimiter: numeric value, optional. Day of the week. Sun to Sat – 1 to 7\n",
    "respectively, weekends – 8, sat & sun – 9, All - 0. Defaults to All - 0.\n",
    "Example:\n",
    "http://webservices.commuterpage.com/weatherdata.cfc?wsdl&method=GetData&dates=20110301-20110305&code=temperature"
   ]
  },
  {
   "cell_type": "code",
   "execution_count": 10,
   "metadata": {
    "collapsed": true
   },
   "outputs": [],
   "source": [
    "weatherapi_url = \"http://webservices.commuterpage.com/weatherdata.cfc?wsdl&method=GetData&dates=20140401-20170101&code=temperature\""
   ]
  },
  {
   "cell_type": "code",
   "execution_count": 11,
   "metadata": {
    "collapsed": false
   },
   "outputs": [],
   "source": [
    "xmlfile = open('xml_temps.xml', 'w')\n",
    "xmldata = requests.get(weatherapi_url)\n",
    "xmlfile.write(xmldata.text)\n",
    "xmlfile.close()\n",
    "\n",
    "xml_temps = 'xml_temps.xml'"
   ]
  },
  {
   "cell_type": "code",
   "execution_count": 12,
   "metadata": {
    "collapsed": false
   },
   "outputs": [],
   "source": [
    "document = ElementTree.parse(xml_temps)\n",
    "date = []\n",
    "temp = []"
   ]
  },
  {
   "cell_type": "code",
   "execution_count": 13,
   "metadata": {
    "collapsed": false
   },
   "outputs": [
    {
     "data": {
      "text/html": [
       "<div>\n",
       "<table border=\"1\" class=\"dataframe\">\n",
       "  <thead>\n",
       "    <tr style=\"text-align: right;\">\n",
       "      <th></th>\n",
       "      <th>temperature</th>\n",
       "    </tr>\n",
       "    <tr>\n",
       "      <th>date</th>\n",
       "      <th></th>\n",
       "    </tr>\n",
       "  </thead>\n",
       "  <tbody>\n",
       "    <tr>\n",
       "      <th>2015-01-01</th>\n",
       "      <td>36.6</td>\n",
       "    </tr>\n",
       "    <tr>\n",
       "      <th>2016-01-01</th>\n",
       "      <td>41.9</td>\n",
       "    </tr>\n",
       "    <tr>\n",
       "      <th>2017-01-01</th>\n",
       "      <td>46.3</td>\n",
       "    </tr>\n",
       "    <tr>\n",
       "      <th>2015-01-02</th>\n",
       "      <td>41.4</td>\n",
       "    </tr>\n",
       "    <tr>\n",
       "      <th>2016-01-02</th>\n",
       "      <td>40.2</td>\n",
       "    </tr>\n",
       "  </tbody>\n",
       "</table>\n",
       "</div>"
      ],
      "text/plain": [
       "           temperature\n",
       "date                  \n",
       "2015-01-01        36.6\n",
       "2016-01-01        41.9\n",
       "2017-01-01        46.3\n",
       "2015-01-02        41.4\n",
       "2016-01-02        40.2"
      ]
     },
     "execution_count": 13,
     "metadata": {},
     "output_type": "execute_result"
    }
   ],
   "source": [
    "for day in document.findall('dataset/date'):\n",
    "    date.append(day.attrib['value'])\n",
    "for day in document.findall('dataset/date/data'):\n",
    "    temp.append(day.attrib['value'])\n",
    "dftemperature = pd.DataFrame({'date' : date, 'temperature' : temp})\n",
    "dftemperature['date'] = pd.to_datetime(dftemperature.date)\n",
    "dftemperature = dftemperature.set_index(\"date\")\n",
    "dftemperature.head()"
   ]
  },
  {
   "cell_type": "code",
   "execution_count": 14,
   "metadata": {
    "collapsed": false,
    "scrolled": true
   },
   "outputs": [
    {
     "data": {
      "text/html": [
       "<div>\n",
       "<table border=\"1\" class=\"dataframe\">\n",
       "  <thead>\n",
       "    <tr style=\"text-align: right;\">\n",
       "      <th></th>\n",
       "      <th>count</th>\n",
       "      <th>temperature</th>\n",
       "    </tr>\n",
       "    <tr>\n",
       "      <th>date</th>\n",
       "      <th></th>\n",
       "      <th></th>\n",
       "    </tr>\n",
       "  </thead>\n",
       "  <tbody>\n",
       "    <tr>\n",
       "      <th>2014-04-01</th>\n",
       "      <td>710</td>\n",
       "      <td>54.0</td>\n",
       "    </tr>\n",
       "    <tr>\n",
       "      <th>2014-04-02</th>\n",
       "      <td>688</td>\n",
       "      <td>55.3</td>\n",
       "    </tr>\n",
       "    <tr>\n",
       "      <th>2014-04-03</th>\n",
       "      <td>514</td>\n",
       "      <td>59.8</td>\n",
       "    </tr>\n",
       "    <tr>\n",
       "      <th>2014-04-04</th>\n",
       "      <td>424</td>\n",
       "      <td>55.1</td>\n",
       "    </tr>\n",
       "    <tr>\n",
       "      <th>2014-04-05</th>\n",
       "      <td>474</td>\n",
       "      <td>53.0</td>\n",
       "    </tr>\n",
       "  </tbody>\n",
       "</table>\n",
       "</div>"
      ],
      "text/plain": [
       "           count temperature\n",
       "date                        \n",
       "2014-04-01   710        54.0\n",
       "2014-04-02   688        55.3\n",
       "2014-04-03   514        59.8\n",
       "2014-04-04   424        55.1\n",
       "2014-04-05   474        53.0"
      ]
     },
     "execution_count": 14,
     "metadata": {},
     "output_type": "execute_result"
    }
   ],
   "source": [
    "pd.concat([dfbikes, dftemperature], axis=1).head()"
   ]
  },
  {
   "cell_type": "markdown",
   "metadata": {},
   "source": [
    "# Add in wind and precipitation"
   ]
  },
  {
   "cell_type": "code",
   "execution_count": 15,
   "metadata": {
    "collapsed": false
   },
   "outputs": [],
   "source": [
    "weatherapi_url = \"http://webservices.commuterpage.com/weatherdata.cfc?wsdl&method=GetData&dates=20140401-20170101&code=windspeed\"\n",
    "\n",
    "xmlfile = open('xml_wind.xml', 'w')\n",
    "xmldata = requests.get(weatherapi_url)\n",
    "xmlfile.write(xmldata.text)\n",
    "xmlfile.close()\n",
    "\n",
    "xml_wind = 'xml_wind.xml'"
   ]
  },
  {
   "cell_type": "code",
   "execution_count": 16,
   "metadata": {
    "collapsed": false
   },
   "outputs": [],
   "source": [
    "document = ElementTree.parse(xml_wind)\n",
    "date = []\n",
    "wind = []"
   ]
  },
  {
   "cell_type": "code",
   "execution_count": 17,
   "metadata": {
    "collapsed": false
   },
   "outputs": [
    {
     "data": {
      "text/html": [
       "<div>\n",
       "<table border=\"1\" class=\"dataframe\">\n",
       "  <thead>\n",
       "    <tr style=\"text-align: right;\">\n",
       "      <th></th>\n",
       "      <th>windspeed</th>\n",
       "    </tr>\n",
       "    <tr>\n",
       "      <th>date</th>\n",
       "      <th></th>\n",
       "    </tr>\n",
       "  </thead>\n",
       "  <tbody>\n",
       "    <tr>\n",
       "      <th>2014-04-01</th>\n",
       "      <td>6</td>\n",
       "    </tr>\n",
       "    <tr>\n",
       "      <th>2014-04-02</th>\n",
       "      <td>3</td>\n",
       "    </tr>\n",
       "    <tr>\n",
       "      <th>2014-04-03</th>\n",
       "      <td>3</td>\n",
       "    </tr>\n",
       "    <tr>\n",
       "      <th>2014-04-04</th>\n",
       "      <td>7</td>\n",
       "    </tr>\n",
       "    <tr>\n",
       "      <th>2014-04-05</th>\n",
       "      <td>9</td>\n",
       "    </tr>\n",
       "  </tbody>\n",
       "</table>\n",
       "</div>"
      ],
      "text/plain": [
       "           windspeed\n",
       "date                \n",
       "2014-04-01         6\n",
       "2014-04-02         3\n",
       "2014-04-03         3\n",
       "2014-04-04         7\n",
       "2014-04-05         9"
      ]
     },
     "execution_count": 17,
     "metadata": {},
     "output_type": "execute_result"
    }
   ],
   "source": [
    "for day in document.findall('dataset/date'):\n",
    "    date.append(day.attrib['value'])\n",
    "for day in document.findall('dataset/date/data'):\n",
    "    wind.append(day.attrib['value'])\n",
    "dfwind = pd.DataFrame({'date' : date, 'windspeed' : wind})\n",
    "dfwind['date'] = pd.to_datetime(dfwind.date)\n",
    "dfwind = dfwind.set_index(\"date\")\n",
    "dfwind.head()"
   ]
  },
  {
   "cell_type": "code",
   "execution_count": 18,
   "metadata": {
    "collapsed": false
   },
   "outputs": [],
   "source": [
    "weatherapi_url = \"http://webservices.commuterpage.com/weatherdata.cfc?wsdl&method=GetData&dates=20140401-20170101&code=precipitation\"\n",
    "\n",
    "xmlfile = open('xml_precip.xml', 'w')\n",
    "xmldata = requests.get(weatherapi_url)\n",
    "xmlfile.write(xmldata.text)\n",
    "xmlfile.close()\n",
    "\n",
    "xml_precip = 'xml_precip.xml'"
   ]
  },
  {
   "cell_type": "code",
   "execution_count": 19,
   "metadata": {
    "collapsed": false
   },
   "outputs": [],
   "source": [
    "document = ElementTree.parse(xml_precip)\n",
    "date = []\n",
    "precip = []"
   ]
  },
  {
   "cell_type": "code",
   "execution_count": 20,
   "metadata": {
    "collapsed": false,
    "scrolled": true
   },
   "outputs": [
    {
     "data": {
      "text/html": [
       "<div>\n",
       "<table border=\"1\" class=\"dataframe\">\n",
       "  <thead>\n",
       "    <tr style=\"text-align: right;\">\n",
       "      <th></th>\n",
       "      <th>precipitation</th>\n",
       "    </tr>\n",
       "    <tr>\n",
       "      <th>date</th>\n",
       "      <th></th>\n",
       "    </tr>\n",
       "  </thead>\n",
       "  <tbody>\n",
       "    <tr>\n",
       "      <th>2014-04-01</th>\n",
       "      <td>0.00</td>\n",
       "    </tr>\n",
       "    <tr>\n",
       "      <th>2014-04-02</th>\n",
       "      <td>0.00</td>\n",
       "    </tr>\n",
       "    <tr>\n",
       "      <th>2014-04-03</th>\n",
       "      <td>0</td>\n",
       "    </tr>\n",
       "    <tr>\n",
       "      <th>2014-04-04</th>\n",
       "      <td>0.06</td>\n",
       "    </tr>\n",
       "    <tr>\n",
       "      <th>2014-04-05</th>\n",
       "      <td>0.01</td>\n",
       "    </tr>\n",
       "  </tbody>\n",
       "</table>\n",
       "</div>"
      ],
      "text/plain": [
       "           precipitation\n",
       "date                    \n",
       "2014-04-01          0.00\n",
       "2014-04-02          0.00\n",
       "2014-04-03             0\n",
       "2014-04-04          0.06\n",
       "2014-04-05          0.01"
      ]
     },
     "execution_count": 20,
     "metadata": {},
     "output_type": "execute_result"
    }
   ],
   "source": [
    "for day in document.findall('dataset/date'):\n",
    "    date.append(day.attrib['value'])\n",
    "for day in document.findall('dataset/date/data'):\n",
    "    if day.attrib['value'] != 'T':\n",
    "        precip.append(day.attrib['value'])\n",
    "    else:\n",
    "        precip.append(0.0)\n",
    "dfprecip = pd.DataFrame({'date' : date, 'precipitation' : precip})\n",
    "dfprecip['date'] = pd.to_datetime(dfprecip.date)\n",
    "dfprecip = dfprecip.set_index(\"date\")\n",
    "dfprecip.head()"
   ]
  },
  {
   "cell_type": "code",
   "execution_count": 21,
   "metadata": {
    "collapsed": false
   },
   "outputs": [
    {
     "data": {
      "text/html": [
       "<div>\n",
       "<table border=\"1\" class=\"dataframe\">\n",
       "  <thead>\n",
       "    <tr style=\"text-align: right;\">\n",
       "      <th></th>\n",
       "      <th>count</th>\n",
       "      <th>temperature</th>\n",
       "      <th>windspeed</th>\n",
       "      <th>precipitation</th>\n",
       "    </tr>\n",
       "    <tr>\n",
       "      <th>date</th>\n",
       "      <th></th>\n",
       "      <th></th>\n",
       "      <th></th>\n",
       "      <th></th>\n",
       "    </tr>\n",
       "  </thead>\n",
       "  <tbody>\n",
       "    <tr>\n",
       "      <th>2014-04-01</th>\n",
       "      <td>710</td>\n",
       "      <td>54.0</td>\n",
       "      <td>6</td>\n",
       "      <td>0.00</td>\n",
       "    </tr>\n",
       "    <tr>\n",
       "      <th>2014-04-02</th>\n",
       "      <td>688</td>\n",
       "      <td>55.3</td>\n",
       "      <td>3</td>\n",
       "      <td>0.00</td>\n",
       "    </tr>\n",
       "    <tr>\n",
       "      <th>2014-04-03</th>\n",
       "      <td>514</td>\n",
       "      <td>59.8</td>\n",
       "      <td>3</td>\n",
       "      <td>0</td>\n",
       "    </tr>\n",
       "    <tr>\n",
       "      <th>2014-04-04</th>\n",
       "      <td>424</td>\n",
       "      <td>55.1</td>\n",
       "      <td>7</td>\n",
       "      <td>0.06</td>\n",
       "    </tr>\n",
       "    <tr>\n",
       "      <th>2014-04-05</th>\n",
       "      <td>474</td>\n",
       "      <td>53.0</td>\n",
       "      <td>9</td>\n",
       "      <td>0.01</td>\n",
       "    </tr>\n",
       "  </tbody>\n",
       "</table>\n",
       "</div>"
      ],
      "text/plain": [
       "           count temperature windspeed precipitation\n",
       "date                                                \n",
       "2014-04-01   710        54.0         6          0.00\n",
       "2014-04-02   688        55.3         3          0.00\n",
       "2014-04-03   514        59.8         3             0\n",
       "2014-04-04   424        55.1         7          0.06\n",
       "2014-04-05   474        53.0         9          0.01"
      ]
     },
     "execution_count": 21,
     "metadata": {},
     "output_type": "execute_result"
    }
   ],
   "source": [
    "bikedataframe = pd.concat([dfbikes, dftemperature, dfwind, dfprecip], axis=1)\n",
    "bikedataframe.head()"
   ]
  },
  {
   "cell_type": "code",
   "execution_count": 22,
   "metadata": {
    "collapsed": false
   },
   "outputs": [
    {
     "data": {
      "text/plain": [
       "'Tuesday'"
      ]
     },
     "execution_count": 22,
     "metadata": {},
     "output_type": "execute_result"
    }
   ],
   "source": [
    "bikedataframe.index[0].weekday_name"
   ]
  },
  {
   "cell_type": "code",
   "execution_count": 23,
   "metadata": {
    "collapsed": false
   },
   "outputs": [],
   "source": [
    "bikedataframe[\"dayofweek\"] = bikedataframe.index.dayofweek"
   ]
  },
  {
   "cell_type": "code",
   "execution_count": 24,
   "metadata": {
    "collapsed": false
   },
   "outputs": [
    {
     "data": {
      "text/html": [
       "<div>\n",
       "<table border=\"1\" class=\"dataframe\">\n",
       "  <thead>\n",
       "    <tr style=\"text-align: right;\">\n",
       "      <th></th>\n",
       "      <th>count</th>\n",
       "      <th>temperature</th>\n",
       "      <th>windspeed</th>\n",
       "      <th>precipitation</th>\n",
       "      <th>dayofweek</th>\n",
       "      <th>weekday</th>\n",
       "    </tr>\n",
       "    <tr>\n",
       "      <th>date</th>\n",
       "      <th></th>\n",
       "      <th></th>\n",
       "      <th></th>\n",
       "      <th></th>\n",
       "      <th></th>\n",
       "      <th></th>\n",
       "    </tr>\n",
       "  </thead>\n",
       "  <tbody>\n",
       "    <tr>\n",
       "      <th>2014-04-01</th>\n",
       "      <td>710.0</td>\n",
       "      <td>54.0</td>\n",
       "      <td>6.0</td>\n",
       "      <td>0.00</td>\n",
       "      <td>1.0</td>\n",
       "      <td>1</td>\n",
       "    </tr>\n",
       "    <tr>\n",
       "      <th>2014-04-02</th>\n",
       "      <td>688.0</td>\n",
       "      <td>55.3</td>\n",
       "      <td>3.0</td>\n",
       "      <td>0.00</td>\n",
       "      <td>2.0</td>\n",
       "      <td>1</td>\n",
       "    </tr>\n",
       "    <tr>\n",
       "      <th>2014-04-03</th>\n",
       "      <td>514.0</td>\n",
       "      <td>59.8</td>\n",
       "      <td>3.0</td>\n",
       "      <td>0.00</td>\n",
       "      <td>3.0</td>\n",
       "      <td>1</td>\n",
       "    </tr>\n",
       "    <tr>\n",
       "      <th>2014-04-04</th>\n",
       "      <td>424.0</td>\n",
       "      <td>55.1</td>\n",
       "      <td>7.0</td>\n",
       "      <td>0.06</td>\n",
       "      <td>4.0</td>\n",
       "      <td>1</td>\n",
       "    </tr>\n",
       "    <tr>\n",
       "      <th>2014-04-05</th>\n",
       "      <td>474.0</td>\n",
       "      <td>53.0</td>\n",
       "      <td>9.0</td>\n",
       "      <td>0.01</td>\n",
       "      <td>5.0</td>\n",
       "      <td>0</td>\n",
       "    </tr>\n",
       "    <tr>\n",
       "      <th>2014-04-06</th>\n",
       "      <td>553.0</td>\n",
       "      <td>50.1</td>\n",
       "      <td>6.0</td>\n",
       "      <td>0.00</td>\n",
       "      <td>6.0</td>\n",
       "      <td>0</td>\n",
       "    </tr>\n",
       "    <tr>\n",
       "      <th>2014-04-07</th>\n",
       "      <td>165.0</td>\n",
       "      <td>51.0</td>\n",
       "      <td>6.0</td>\n",
       "      <td>0.38</td>\n",
       "      <td>0.0</td>\n",
       "      <td>1</td>\n",
       "    </tr>\n",
       "    <tr>\n",
       "      <th>2014-04-08</th>\n",
       "      <td>560.0</td>\n",
       "      <td>57.7</td>\n",
       "      <td>7.0</td>\n",
       "      <td>0.04</td>\n",
       "      <td>1.0</td>\n",
       "      <td>1</td>\n",
       "    </tr>\n",
       "    <tr>\n",
       "      <th>2014-04-09</th>\n",
       "      <td>653.0</td>\n",
       "      <td>57.3</td>\n",
       "      <td>7.0</td>\n",
       "      <td>0.00</td>\n",
       "      <td>2.0</td>\n",
       "      <td>1</td>\n",
       "    </tr>\n",
       "    <tr>\n",
       "      <th>2014-04-10</th>\n",
       "      <td>809.0</td>\n",
       "      <td>60.1</td>\n",
       "      <td>6.0</td>\n",
       "      <td>0.00</td>\n",
       "      <td>3.0</td>\n",
       "      <td>1</td>\n",
       "    </tr>\n",
       "    <tr>\n",
       "      <th>2014-04-11</th>\n",
       "      <td>627.0</td>\n",
       "      <td>68.0</td>\n",
       "      <td>10.0</td>\n",
       "      <td>0.00</td>\n",
       "      <td>4.0</td>\n",
       "      <td>1</td>\n",
       "    </tr>\n",
       "    <tr>\n",
       "      <th>2014-04-12</th>\n",
       "      <td>973.0</td>\n",
       "      <td>66.9</td>\n",
       "      <td>5.0</td>\n",
       "      <td>0.00</td>\n",
       "      <td>5.0</td>\n",
       "      <td>0</td>\n",
       "    </tr>\n",
       "    <tr>\n",
       "      <th>2014-04-13</th>\n",
       "      <td>926.0</td>\n",
       "      <td>70.1</td>\n",
       "      <td>8.0</td>\n",
       "      <td>0.00</td>\n",
       "      <td>6.0</td>\n",
       "      <td>0</td>\n",
       "    </tr>\n",
       "    <tr>\n",
       "      <th>2014-04-14</th>\n",
       "      <td>675.0</td>\n",
       "      <td>72.0</td>\n",
       "      <td>15.0</td>\n",
       "      <td>0.06</td>\n",
       "      <td>0.0</td>\n",
       "      <td>1</td>\n",
       "    </tr>\n",
       "  </tbody>\n",
       "</table>\n",
       "</div>"
      ],
      "text/plain": [
       "            count  temperature  windspeed  precipitation  dayofweek  weekday\n",
       "date                                                                        \n",
       "2014-04-01  710.0         54.0        6.0           0.00        1.0        1\n",
       "2014-04-02  688.0         55.3        3.0           0.00        2.0        1\n",
       "2014-04-03  514.0         59.8        3.0           0.00        3.0        1\n",
       "2014-04-04  424.0         55.1        7.0           0.06        4.0        1\n",
       "2014-04-05  474.0         53.0        9.0           0.01        5.0        0\n",
       "2014-04-06  553.0         50.1        6.0           0.00        6.0        0\n",
       "2014-04-07  165.0         51.0        6.0           0.38        0.0        1\n",
       "2014-04-08  560.0         57.7        7.0           0.04        1.0        1\n",
       "2014-04-09  653.0         57.3        7.0           0.00        2.0        1\n",
       "2014-04-10  809.0         60.1        6.0           0.00        3.0        1\n",
       "2014-04-11  627.0         68.0       10.0           0.00        4.0        1\n",
       "2014-04-12  973.0         66.9        5.0           0.00        5.0        0\n",
       "2014-04-13  926.0         70.1        8.0           0.00        6.0        0\n",
       "2014-04-14  675.0         72.0       15.0           0.06        0.0        1"
      ]
     },
     "execution_count": 24,
     "metadata": {},
     "output_type": "execute_result"
    }
   ],
   "source": [
    "bikedataframe = bikedataframe.astype(float)\n",
    "bikedataframe[\"weekday\"] = 0\n",
    "bikedataframe['weekday'] = np.where(bikedataframe['dayofweek'] < 5, 1, 0)\n",
    "bikedataframe.head(14)"
   ]
  },
  {
   "cell_type": "code",
   "execution_count": 24,
   "metadata": {
    "collapsed": false
   },
   "outputs": [
    {
     "data": {
      "text/plain": [
       "count            426.203980\n",
       "temperature       61.207562\n",
       "windspeed          7.176471\n",
       "precipitation      0.112159\n",
       "dayofweek          3.002979\n",
       "weekday            0.714002\n",
       "dtype: float64"
      ]
     },
     "execution_count": 24,
     "metadata": {},
     "output_type": "execute_result"
    }
   ],
   "source": [
    "bikedataframe.mean()"
   ]
  },
  {
   "cell_type": "markdown",
   "metadata": {},
   "source": [
    "As you can see from the mean data above, the average number of inbound bike trips per day was 426. It would then be interesting to see which days of the week had higher or lower than average bike usage."
   ]
  },
  {
   "cell_type": "code",
   "execution_count": 25,
   "metadata": {
    "collapsed": false
   },
   "outputs": [
    {
     "data": {
      "text/html": [
       "<div>\n",
       "<table border=\"1\" class=\"dataframe\">\n",
       "  <thead>\n",
       "    <tr style=\"text-align: right;\">\n",
       "      <th></th>\n",
       "      <th>count</th>\n",
       "      <th>temperature</th>\n",
       "      <th>windspeed</th>\n",
       "      <th>precipitation</th>\n",
       "      <th>weekday</th>\n",
       "    </tr>\n",
       "    <tr>\n",
       "      <th>dayofweek</th>\n",
       "      <th></th>\n",
       "      <th></th>\n",
       "      <th></th>\n",
       "      <th></th>\n",
       "      <th></th>\n",
       "    </tr>\n",
       "  </thead>\n",
       "  <tbody>\n",
       "    <tr>\n",
       "      <th>0.0</th>\n",
       "      <td>469.552448</td>\n",
       "      <td>61.428671</td>\n",
       "      <td>7.226950</td>\n",
       "      <td>0.126667</td>\n",
       "      <td>1</td>\n",
       "    </tr>\n",
       "    <tr>\n",
       "      <th>1.0</th>\n",
       "      <td>478.187500</td>\n",
       "      <td>62.140278</td>\n",
       "      <td>7.062500</td>\n",
       "      <td>0.169097</td>\n",
       "      <td>1</td>\n",
       "    </tr>\n",
       "    <tr>\n",
       "      <th>2.0</th>\n",
       "      <td>473.333333</td>\n",
       "      <td>61.881119</td>\n",
       "      <td>6.832168</td>\n",
       "      <td>0.139792</td>\n",
       "      <td>1</td>\n",
       "    </tr>\n",
       "    <tr>\n",
       "      <th>3.0</th>\n",
       "      <td>442.118881</td>\n",
       "      <td>61.536364</td>\n",
       "      <td>7.132867</td>\n",
       "      <td>0.105347</td>\n",
       "      <td>1</td>\n",
       "    </tr>\n",
       "    <tr>\n",
       "      <th>4.0</th>\n",
       "      <td>426.629371</td>\n",
       "      <td>60.450694</td>\n",
       "      <td>7.625000</td>\n",
       "      <td>0.070764</td>\n",
       "      <td>1</td>\n",
       "    </tr>\n",
       "    <tr>\n",
       "      <th>5.0</th>\n",
       "      <td>325.013889</td>\n",
       "      <td>60.023611</td>\n",
       "      <td>7.256944</td>\n",
       "      <td>0.121736</td>\n",
       "      <td>0</td>\n",
       "    </tr>\n",
       "    <tr>\n",
       "      <th>6.0</th>\n",
       "      <td>369.006944</td>\n",
       "      <td>61.000694</td>\n",
       "      <td>7.097222</td>\n",
       "      <td>0.052014</td>\n",
       "      <td>0</td>\n",
       "    </tr>\n",
       "  </tbody>\n",
       "</table>\n",
       "</div>"
      ],
      "text/plain": [
       "                count  temperature  windspeed  precipitation  weekday\n",
       "dayofweek                                                            \n",
       "0.0        469.552448    61.428671   7.226950       0.126667        1\n",
       "1.0        478.187500    62.140278   7.062500       0.169097        1\n",
       "2.0        473.333333    61.881119   6.832168       0.139792        1\n",
       "3.0        442.118881    61.536364   7.132867       0.105347        1\n",
       "4.0        426.629371    60.450694   7.625000       0.070764        1\n",
       "5.0        325.013889    60.023611   7.256944       0.121736        0\n",
       "6.0        369.006944    61.000694   7.097222       0.052014        0"
      ]
     },
     "execution_count": 25,
     "metadata": {},
     "output_type": "execute_result"
    }
   ],
   "source": [
    "bikedataframe.groupby('dayofweek').mean()"
   ]
  },
  {
   "cell_type": "markdown",
   "metadata": {},
   "source": [
    "It looks like Monday (dayofweek = 0) through Thursday (dayofweek = 4) has higher than average usage and Saturday has the lowest average number of bike trips. It seems there might be a significant difference between weekday and weekend bike usage on the Custis Trail."
   ]
  },
  {
   "cell_type": "code",
   "execution_count": 26,
   "metadata": {
    "collapsed": false
   },
   "outputs": [
    {
     "data": {
      "text/plain": [
       "weekday\n",
       "0    347.010417\n",
       "1    458.013947\n",
       "Name: count, dtype: float64"
      ]
     },
     "execution_count": 26,
     "metadata": {},
     "output_type": "execute_result"
    }
   ],
   "source": [
    "week_versus_end = bikedataframe.groupby('weekday')\n",
    "week_versus_end['count'].mean()"
   ]
  },
  {
   "cell_type": "markdown",
   "metadata": {},
   "source": [
    "The average daily weekday number of inbound bike trips was 458 versus just 347 per day on the weekends."
   ]
  },
  {
   "cell_type": "code",
   "execution_count": 27,
   "metadata": {
    "collapsed": false
   },
   "outputs": [
    {
     "data": {
      "text/html": [
       "<div>\n",
       "<table border=\"1\" class=\"dataframe\">\n",
       "  <thead>\n",
       "    <tr style=\"text-align: right;\">\n",
       "      <th></th>\n",
       "      <th>count</th>\n",
       "      <th>temperature</th>\n",
       "      <th>windspeed</th>\n",
       "      <th>precipitation</th>\n",
       "      <th>dayofweek</th>\n",
       "    </tr>\n",
       "    <tr>\n",
       "      <th>weekday</th>\n",
       "      <th></th>\n",
       "      <th></th>\n",
       "      <th></th>\n",
       "      <th></th>\n",
       "      <th></th>\n",
       "    </tr>\n",
       "  </thead>\n",
       "  <tbody>\n",
       "    <tr>\n",
       "      <th>0</th>\n",
       "      <td>0.0</td>\n",
       "      <td>15.9</td>\n",
       "      <td>1.0</td>\n",
       "      <td>0.0</td>\n",
       "      <td>5.0</td>\n",
       "    </tr>\n",
       "    <tr>\n",
       "      <th>1</th>\n",
       "      <td>2.0</td>\n",
       "      <td>14.1</td>\n",
       "      <td>1.0</td>\n",
       "      <td>0.0</td>\n",
       "      <td>0.0</td>\n",
       "    </tr>\n",
       "  </tbody>\n",
       "</table>\n",
       "</div>"
      ],
      "text/plain": [
       "         count  temperature  windspeed  precipitation  dayofweek\n",
       "weekday                                                         \n",
       "0          0.0         15.9        1.0            0.0        5.0\n",
       "1          2.0         14.1        1.0            0.0        0.0"
      ]
     },
     "execution_count": 27,
     "metadata": {},
     "output_type": "execute_result"
    }
   ],
   "source": [
    "week_versus_end.min()"
   ]
  },
  {
   "cell_type": "code",
   "execution_count": 28,
   "metadata": {
    "collapsed": false
   },
   "outputs": [
    {
     "data": {
      "text/html": [
       "<div>\n",
       "<table border=\"1\" class=\"dataframe\">\n",
       "  <thead>\n",
       "    <tr style=\"text-align: right;\">\n",
       "      <th></th>\n",
       "      <th>count</th>\n",
       "      <th>temperature</th>\n",
       "      <th>windspeed</th>\n",
       "      <th>precipitation</th>\n",
       "      <th>dayofweek</th>\n",
       "    </tr>\n",
       "    <tr>\n",
       "      <th>weekday</th>\n",
       "      <th></th>\n",
       "      <th></th>\n",
       "      <th></th>\n",
       "      <th></th>\n",
       "      <th></th>\n",
       "    </tr>\n",
       "  </thead>\n",
       "  <tbody>\n",
       "    <tr>\n",
       "      <th>0</th>\n",
       "      <td>973.0</td>\n",
       "      <td>90.1</td>\n",
       "      <td>21.0</td>\n",
       "      <td>2.75</td>\n",
       "      <td>6.0</td>\n",
       "    </tr>\n",
       "    <tr>\n",
       "      <th>1</th>\n",
       "      <td>989.0</td>\n",
       "      <td>89.2</td>\n",
       "      <td>16.0</td>\n",
       "      <td>2.70</td>\n",
       "      <td>4.0</td>\n",
       "    </tr>\n",
       "  </tbody>\n",
       "</table>\n",
       "</div>"
      ],
      "text/plain": [
       "         count  temperature  windspeed  precipitation  dayofweek\n",
       "weekday                                                         \n",
       "0        973.0         90.1       21.0           2.75        6.0\n",
       "1        989.0         89.2       16.0           2.70        4.0"
      ]
     },
     "execution_count": 28,
     "metadata": {},
     "output_type": "execute_result"
    }
   ],
   "source": [
    "week_versus_end.max()"
   ]
  },
  {
   "cell_type": "code",
   "execution_count": 29,
   "metadata": {
    "collapsed": true
   },
   "outputs": [],
   "source": [
    "%matplotlib inline\n",
    "import matplotlib.pyplot as plt"
   ]
  },
  {
   "cell_type": "code",
   "execution_count": 32,
   "metadata": {
    "collapsed": false,
    "scrolled": true
   },
   "outputs": [
    {
     "data": {
      "text/plain": [
       "<matplotlib.figure.Figure at 0xbb988d0>"
      ]
     },
     "metadata": {},
     "output_type": "display_data"
    },
    {
     "data": {
      "image/png": "[encoded data removed]",
      "text/plain": [
       "<matplotlib.figure.Figure at 0xbb98828>"
      ]
     },
     "metadata": {},
     "output_type": "display_data"
    }
   ],
   "source": [
    "plt.figure()\n",
    "bp = week_versus_end.boxplot(column = 'count', return_type='axes')"
   ]
  },
  {
   "cell_type": "markdown",
   "metadata": {
    "collapsed": true
   },
   "source": [
    "The boxplot of the left clearly shows that on average there are fewer bike trips on the weekend days versus weekdays. However, there are some weekend day outliers that are almost just as high as the weekday extreme usage days. There seems to be a daily maximum capacity for the trail around 1,000 inbound trips. It makes me think some of these extremely high outliers are associated with events.\n",
    "\n",
    "My next steps will be to explore these extreme outliers, dig further into the temperature, wind and precipitation day. Ultimately, I want to build a model that can predict daily bike trips on this part of the Custis Trail."
   ]
  }
 ],
 "metadata": {
  "kernelspec": {
   "display_name": "Python [default]",
   "language": "python",
   "name": "python3"
  },
  "language_info": {
   "codemirror_mode": {
    "name": "ipython",
    "version": 3
   },
   "file_extension": ".py",
   "mimetype": "text/x-python",
   "name": "python",
   "nbconvert_exporter": "python",
   "pygments_lexer": "ipython3",
   "version": "3.5.2"
  },
  "nikola": {
   "category": "",
   "date": "2017-01-22 23:10:01 UTC-05:00",
   "description": "",
   "link": "",
   "slug": "exploring-arlingtons-bikeometer-data",
   "tags": "",
   "title": "Exploring Arlington's Bikeometer Data",
   "type": "text"
  }
 },
 "nbformat": 4,
 "nbformat_minor": 1
}
